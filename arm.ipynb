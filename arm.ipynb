{
 "cells": [
  {
   "cell_type": "code",
   "execution_count": 731,
   "metadata": {},
   "outputs": [],
   "source": [
    "import warnings\n",
    "#warnings.filterwarnings('ignore')\n",
    "\n",
    "import numpy as np\n",
    "import pandas as pd\n",
    "\n",
    "import mne\n",
    "from mne import Epochs, pick_types, find_events\n",
    "from mne.filter import filter_data\n",
    "from mne.channels import read_layout\n",
    "from mne.io import concatenate_raws, read_raw_gdf\n",
    "from mne.decoding import CSP\n",
    "from sklearn.preprocessing import LabelEncoder\n",
    "from sklearn.preprocessing import OneHotEncoder\n",
    "from sklearn.model_selection import train_test_split\n",
    "\n",
    "import tensorflow as tf\n",
    "import tensorflow.keras as keras\n",
    "from tensorflow.keras.callbacks import Callback\n",
    "from tensorflow.keras import utils as np_utils\n",
    "from tensorflow.keras.callbacks import ModelCheckpoint\n",
    "from EEGModels import EEGNet\n",
    "from sklearn.metrics import confusion_matrix\n",
    "import matplotlib.pyplot as plt\n",
    "# %matplotlib tk\n",
    "\n",
    "\n",
    "'''\n",
    "Parameters:\n",
    "'''\n",
    "tmin = 0.3\n",
    "tmax = 3"
   ]
  },
  {
   "cell_type": "code",
   "execution_count": 732,
   "metadata": {
    "scrolled": false,
    "pycharm": {
     "name": "#%%\n"
    }
   },
   "outputs": [
    {
     "name": "stdout",
     "output_type": "stream",
     "text": [
      "Extracting EDF parameters from D:\\EEGTest\\Attempted arm and hand movements in persons with spinal cord injury\\P05\\P05 Run 3.gdf...\n",
      "GDF file detected\n",
      "Setting channel info structure...\n",
      "Creating raw.info structure...\n",
      "Reading 0 ... 76543  =      0.000 ...   298.996 secs...\n",
      "Extracting EDF parameters from D:\\EEGTest\\Attempted arm and hand movements in persons with spinal cord injury\\P05\\P05 Run 4.gdf...\n",
      "GDF file detected\n",
      "Setting channel info structure...\n",
      "Creating raw.info structure...\n",
      "Reading 0 ... 76799  =      0.000 ...   299.996 secs...\n",
      "Extracting EDF parameters from D:\\EEGTest\\Attempted arm and hand movements in persons with spinal cord injury\\P05\\P05 Run 5.gdf...\n",
      "GDF file detected\n",
      "Setting channel info structure...\n",
      "Creating raw.info structure...\n",
      "Reading 0 ... 76031  =      0.000 ...   296.996 secs...\n",
      "Extracting EDF parameters from D:\\EEGTest\\Attempted arm and hand movements in persons with spinal cord injury\\P05\\P05 Run 6.gdf...\n",
      "GDF file detected\n",
      "Setting channel info structure...\n",
      "Creating raw.info structure...\n",
      "Reading 0 ... 77055  =      0.000 ...   300.996 secs...\n",
      "Extracting EDF parameters from D:\\EEGTest\\Attempted arm and hand movements in persons with spinal cord injury\\P05\\P05 Run 7.gdf...\n",
      "GDF file detected\n",
      "Setting channel info structure...\n",
      "Creating raw.info structure...\n",
      "Reading 0 ... 77823  =      0.000 ...   303.996 secs...\n",
      "Extracting EDF parameters from D:\\EEGTest\\Attempted arm and hand movements in persons with spinal cord injury\\P05\\P05 Run 10.gdf...\n",
      "GDF file detected\n",
      "Setting channel info structure...\n",
      "Creating raw.info structure...\n",
      "Reading 0 ... 77055  =      0.000 ...   300.996 secs...\n",
      "Extracting EDF parameters from D:\\EEGTest\\Attempted arm and hand movements in persons with spinal cord injury\\P05\\P05 Run 11.gdf...\n",
      "GDF file detected\n",
      "Setting channel info structure...\n",
      "Creating raw.info structure...\n",
      "Reading 0 ... 77823  =      0.000 ...   303.996 secs...\n",
      "Extracting EDF parameters from D:\\EEGTest\\Attempted arm and hand movements in persons with spinal cord injury\\P05\\P05 Run 12.gdf...\n",
      "GDF file detected\n",
      "Setting channel info structure...\n",
      "Creating raw.info structure...\n",
      "Reading 0 ... 77311  =      0.000 ...   301.996 secs...\n",
      "Extracting EDF parameters from D:\\EEGTest\\Attempted arm and hand movements in persons with spinal cord injury\\P05\\P05 Run 13.gdf...\n",
      "GDF file detected\n",
      "Setting channel info structure...\n",
      "Creating raw.info structure...\n",
      "Reading 0 ... 78847  =      0.000 ...   307.996 secs...\n"
     ]
    },
    {
     "name": "stderr",
     "output_type": "stream",
     "text": [
      "C:\\Users\\kings\\Anaconda3\\envs\\mne\\lib\\site-packages\\mne\\io\\edf\\edf.py:996: DeprecationWarning: The binary mode of fromstring is deprecated, as it behaves surprisingly on unicode inputs. Use frombuffer instead\n",
      "  etmode = np.fromstring(etmode, np.uint8).tolist()[0]\n",
      "C:\\Users\\kings\\Anaconda3\\envs\\mne\\lib\\site-packages\\mne\\io\\edf\\edf.py:996: DeprecationWarning: The binary mode of fromstring is deprecated, as it behaves surprisingly on unicode inputs. Use frombuffer instead\n",
      "  etmode = np.fromstring(etmode, np.uint8).tolist()[0]\n",
      "C:\\Users\\kings\\Anaconda3\\envs\\mne\\lib\\site-packages\\mne\\io\\edf\\edf.py:996: DeprecationWarning: The binary mode of fromstring is deprecated, as it behaves surprisingly on unicode inputs. Use frombuffer instead\n",
      "  etmode = np.fromstring(etmode, np.uint8).tolist()[0]\n",
      "C:\\Users\\kings\\Anaconda3\\envs\\mne\\lib\\site-packages\\mne\\io\\edf\\edf.py:996: DeprecationWarning: The binary mode of fromstring is deprecated, as it behaves surprisingly on unicode inputs. Use frombuffer instead\n",
      "  etmode = np.fromstring(etmode, np.uint8).tolist()[0]\n",
      "C:\\Users\\kings\\Anaconda3\\envs\\mne\\lib\\site-packages\\mne\\io\\edf\\edf.py:996: DeprecationWarning: The binary mode of fromstring is deprecated, as it behaves surprisingly on unicode inputs. Use frombuffer instead\n",
      "  etmode = np.fromstring(etmode, np.uint8).tolist()[0]\n",
      "C:\\Users\\kings\\Anaconda3\\envs\\mne\\lib\\site-packages\\mne\\io\\edf\\edf.py:996: DeprecationWarning: The binary mode of fromstring is deprecated, as it behaves surprisingly on unicode inputs. Use frombuffer instead\n",
      "  etmode = np.fromstring(etmode, np.uint8).tolist()[0]\n",
      "C:\\Users\\kings\\Anaconda3\\envs\\mne\\lib\\site-packages\\mne\\io\\edf\\edf.py:996: DeprecationWarning: The binary mode of fromstring is deprecated, as it behaves surprisingly on unicode inputs. Use frombuffer instead\n",
      "  etmode = np.fromstring(etmode, np.uint8).tolist()[0]\n",
      "C:\\Users\\kings\\Anaconda3\\envs\\mne\\lib\\site-packages\\mne\\io\\edf\\edf.py:996: DeprecationWarning: The binary mode of fromstring is deprecated, as it behaves surprisingly on unicode inputs. Use frombuffer instead\n",
      "  etmode = np.fromstring(etmode, np.uint8).tolist()[0]\n",
      "C:\\Users\\kings\\Anaconda3\\envs\\mne\\lib\\site-packages\\mne\\io\\edf\\edf.py:996: DeprecationWarning: The binary mode of fromstring is deprecated, as it behaves surprisingly on unicode inputs. Use frombuffer instead\n",
      "  etmode = np.fromstring(etmode, np.uint8).tolist()[0]\n"
     ]
    }
   ],
   "source": [
    "object_names = ['P01', 'P02', 'P03', 'P04', 'P05', 'P06', 'P07', 'P08', 'P09', 'P10']\n",
    "object_names = ['P05']\n",
    "runMove = [3, 4, 5, 6, 7, 10, 11, 12, 13]\n",
    "files = []\n",
    "for name in object_names:\n",
    "    for i in runMove:\n",
    "        files.append(read_raw_gdf(f'..\\\\{name}\\\\{name} Run {i}.gdf', stim_channel=None, eog=[61,62,63], preload=True))"
   ]
  },
  {
   "cell_type": "code",
   "execution_count": 733,
   "outputs": [
    {
     "name": "stdout",
     "output_type": "stream",
     "text": [
      "9\n"
     ]
    }
   ],
   "source": [
    "print(len(files))"
   ],
   "metadata": {
    "collapsed": false,
    "pycharm": {
     "name": "#%%\n"
    }
   }
  },
  {
   "cell_type": "code",
   "execution_count": 734,
   "metadata": {},
   "outputs": [],
   "source": [
    "eventDescription_offline_paradigm = {\n",
    "    #'768': \"trial start\",\n",
    "    #'785': \"beep\",\n",
    "    #'786': \"fixation cross\",\n",
    "    '776': \"supinationclass cue\",\n",
    "    '777': \"pronationclass cue\",\n",
    "    '779': \"hand openclass cue\",\n",
    "    '925': \"palmar graspclass cue\",\n",
    "    '926': \"ateral graspclass cue\",\n",
    "}\n",
    "# narrow it down to two\n",
    "eventDescription_offline_paradigm = {\n",
    "   '779': \"hand openclass cue\",\n",
    "   '925': \"palmar graspclass cue\",\n",
    "}"
   ]
  },
  {
   "cell_type": "code",
   "execution_count": 735,
   "metadata": {
    "pycharm": {
     "name": "#%%\n"
    }
   },
   "outputs": [
    {
     "name": "stdout",
     "output_type": "stream",
     "text": [
      "Used Annotations descriptions: ['33536', '33544', '33545', '33547', '33554', '33693', '33694', '768', '776', '777', '779', '785', '786', '925', '926']\n",
      "event id: {'hand openclass cue': 11, 'palmar graspclass cue': 14}\n",
      "Not setting metadata\n",
      "Not setting metadata\n",
      "16 matching events found\n",
      "No baseline correction applied\n",
      "0 projection items activated\n",
      "Loading data for 16 events and 692 original time points ...\n",
      "0 bad epochs dropped\n",
      "Used Annotations descriptions: ['33536', '33544', '33545', '33547', '33554', '33693', '33694', '768', '776', '777', '779', '785', '786', '925', '926']\n",
      "event id: {'hand openclass cue': 11, 'palmar graspclass cue': 14}\n",
      "Not setting metadata\n",
      "Not setting metadata\n",
      "16 matching events found\n",
      "No baseline correction applied\n",
      "0 projection items activated\n",
      "Loading data for 16 events and 692 original time points ...\n",
      "0 bad epochs dropped\n",
      "Used Annotations descriptions: ['33536', '33544', '33545', '33547', '33554', '33693', '33694', '768', '776', '777', '779', '785', '786', '925', '926']\n",
      "event id: {'hand openclass cue': 11, 'palmar graspclass cue': 14}\n",
      "Not setting metadata\n",
      "Not setting metadata\n",
      "16 matching events found\n",
      "No baseline correction applied\n",
      "0 projection items activated\n",
      "Loading data for 16 events and 692 original time points ...\n",
      "0 bad epochs dropped\n",
      "Used Annotations descriptions: ['33536', '33544', '33545', '33547', '33554', '33693', '33694', '768', '776', '777', '779', '785', '786', '925', '926']\n",
      "event id: {'hand openclass cue': 11, 'palmar graspclass cue': 14}\n",
      "Not setting metadata\n",
      "Not setting metadata\n",
      "16 matching events found\n",
      "No baseline correction applied\n",
      "0 projection items activated\n",
      "Loading data for 16 events and 692 original time points ...\n",
      "0 bad epochs dropped\n",
      "Used Annotations descriptions: ['33536', '33544', '33545', '33547', '33554', '33693', '33694', '768', '776', '777', '779', '785', '786', '925', '926']\n",
      "event id: {'hand openclass cue': 11, 'palmar graspclass cue': 14}\n",
      "Not setting metadata\n",
      "Not setting metadata\n",
      "16 matching events found\n",
      "No baseline correction applied\n",
      "0 projection items activated\n",
      "Loading data for 16 events and 692 original time points ...\n",
      "0 bad epochs dropped\n",
      "Used Annotations descriptions: ['33536', '33544', '33545', '33547', '33554', '33693', '33694', '768', '776', '777', '779', '785', '786', '925', '926']\n",
      "event id: {'hand openclass cue': 11, 'palmar graspclass cue': 14}\n",
      "Not setting metadata\n",
      "Not setting metadata\n",
      "16 matching events found\n",
      "No baseline correction applied\n",
      "0 projection items activated\n",
      "Loading data for 16 events and 692 original time points ...\n",
      "0 bad epochs dropped\n",
      "Used Annotations descriptions: ['33536', '33544', '33545', '33547', '33554', '33693', '33694', '768', '776', '777', '779', '785', '786', '925', '926']\n",
      "event id: {'hand openclass cue': 11, 'palmar graspclass cue': 14}\n",
      "Not setting metadata\n",
      "Not setting metadata\n",
      "16 matching events found\n",
      "No baseline correction applied\n",
      "0 projection items activated\n",
      "Loading data for 16 events and 692 original time points ...\n",
      "0 bad epochs dropped\n",
      "Used Annotations descriptions: ['33536', '33544', '33545', '33547', '33554', '33693', '33694', '768', '776', '777', '779', '785', '786', '925', '926']\n",
      "event id: {'hand openclass cue': 11, 'palmar graspclass cue': 14}\n",
      "Not setting metadata\n",
      "Not setting metadata\n",
      "16 matching events found\n",
      "No baseline correction applied\n",
      "0 projection items activated\n",
      "Loading data for 16 events and 692 original time points ...\n",
      "0 bad epochs dropped\n",
      "Used Annotations descriptions: ['33536', '33544', '33545', '33547', '33554', '33693', '33694', '768', '776', '777', '779', '785', '786', '925', '926']\n",
      "event id: {'hand openclass cue': 11, 'palmar graspclass cue': 14}\n",
      "Not setting metadata\n",
      "Not setting metadata\n",
      "16 matching events found\n",
      "No baseline correction applied\n",
      "0 projection items activated\n",
      "Loading data for 16 events and 692 original time points ...\n",
      "0 bad epochs dropped\n",
      "Not setting metadata\n",
      "Not setting metadata\n",
      "144 matching events found\n",
      "No baseline correction applied\n",
      "0 bad epochs dropped\n"
     ]
    }
   ],
   "source": [
    "# events = [number of events, position, event code, channel, duration]\n",
    "# file_P01_Run3._raw_extras[0]['events']\n",
    "event_id = {}\n",
    "epochs_list = []\n",
    "for file in files:\n",
    "    # band pass filter\n",
    "    # file.filter(0.1, 100, method='fir')\n",
    "    event, _ = mne.events_from_annotations(file)\n",
    "    # build event id and filter 1-7 id\n",
    "\n",
    "    contains_both = 0\n",
    "    for i in _: #handle event_id\n",
    "        if i not in eventDescription_offline_paradigm:\n",
    "            continue\n",
    "        contains_both += 1\n",
    "        event_id[eventDescription_offline_paradigm[i]] = _[i]\n",
    "\n",
    "\n",
    "    print(f'event id: {event_id}')\n",
    "    if contains_both == len(eventDescription_offline_paradigm):\n",
    "        epochs = mne.Epochs(file, event, event_id, tmin=tmin, tmax=tmax, baseline=None, event_repeated = 'merge', preload=True)\n",
    "        epochs_list.append(epochs)\n",
    "\n",
    "result_epochs = mne.concatenate_epochs(epochs_list)"
   ]
  },
  {
   "cell_type": "code",
   "execution_count": 736,
   "outputs": [
    {
     "name": "stdout",
     "output_type": "stream",
     "text": [
      "Used Annotations descriptions: ['33536', '33544', '33545', '33547', '33554', '33693', '33694', '768', '776', '777', '779', '785', '786', '925', '926']\n",
      "[[21023     0    11]\n",
      " [22592     0    11]\n",
      " [25864     0    11]\n",
      " [40223     0    11]\n",
      " [41878     0    11]\n",
      " [45467     0    11]\n",
      " [49034     0    11]\n",
      " [54248     0    11]]\n",
      "[[ 3072     0    14]\n",
      " [ 8805     0    14]\n",
      " [13765     0    14]\n",
      " [19246     0    14]\n",
      " [24186     0    14]\n",
      " [27649     0    14]\n",
      " [56253     0    14]\n",
      " [72591     0    14]]\n",
      "Effective window size : 8.000 (s)\n"
     ]
    },
    {
     "name": "stderr",
     "output_type": "stream",
     "text": [
      "<ipython-input-736-f94208927d6a>:8: RuntimeWarning: Channel locations not available. Disabling spatial colors.\n",
      "  file.plot_psd(fmax=30)\n"
     ]
    },
    {
     "data": {
      "text/plain": "<Figure size 432x288 with 1 Axes>",
      "image/png": "[encoded data removed]"
     },
     "metadata": {
      "needs_background": "light"
     },
     "output_type": "display_data"
    },
    {
     "data": {
      "text/plain": "<Figure size 432x288 with 1 Axes>",
      "image/png": "[encoded data removed]"
     },
     "execution_count": 736,
     "metadata": {},
     "output_type": "execute_result"
    }
   ],
   "source": [
    "# plotting\n",
    "file = files[0]\n",
    "event, _ = mne.events_from_annotations(file)\n",
    "event1 = np.array(list(filter(lambda x: x[2] == 11, event)))\n",
    "event2 = np.array(list(filter(lambda x: x[2] == 14, event)))\n",
    "print(event1)\n",
    "print(event2)\n",
    "file.plot_psd(fmax=30)"
   ],
   "metadata": {
    "collapsed": false,
    "pycharm": {
     "name": "#%%\n"
    }
   }
  },
  {
   "cell_type": "code",
   "execution_count": 737,
   "outputs": [
    {
     "name": "stdout",
     "output_type": "stream",
     "text": [
      "2\n",
      "[[  3072      0     14]\n",
      " [  8805      0     14]\n",
      " [ 13765      0     14]\n",
      " [ 19246      0     14]\n",
      " [ 21023      0     11]\n",
      " [ 22592      0     11]\n",
      " [ 24186      0     14]\n",
      " [ 25864      0     11]\n",
      " [ 27649      0     14]\n",
      " [ 40223      0     11]\n",
      " [ 41878      0     11]\n",
      " [ 45467      0     11]\n",
      " [ 49034      0     11]\n",
      " [ 54248      0     11]\n",
      " [ 56253      0     14]\n",
      " [ 72591      0     14]\n",
      " [ 81022      0     14]\n",
      " [ 93521      0     14]\n",
      " [100688      0     14]\n",
      " [103994      0     14]\n",
      " [109051      0     11]\n",
      " [112595      0     14]\n",
      " [121406      0     11]\n",
      " [123334      0     11]\n",
      " [125207      0     14]\n",
      " [126937      0     14]\n",
      " [128537      0     11]\n",
      " [133664      0     11]\n",
      " [137480      0     11]\n",
      " [139208      0     14]\n",
      " [145010      0     11]\n",
      " [148579      0     11]\n",
      " [158543      0     14]\n",
      " [164527      0     14]\n",
      " [169568      0     11]\n",
      " [173272      0     14]\n",
      " [174881      0     11]\n",
      " [176621      0     14]\n",
      " [180453      0     11]\n",
      " [185453      0     14]\n",
      " [188967      0     11]\n",
      " [190656      0     14]\n",
      " [194339      0     11]\n",
      " [199811      0     11]\n",
      " [203332      0     11]\n",
      " [208699      0     11]\n",
      " [212038      0     14]\n",
      " [216870      0     14]\n",
      " [224890      0     14]\n",
      " [226764      0     11]\n",
      " [230653      0     14]\n",
      " [239531      0     11]\n",
      " [241093      0     14]\n",
      " [252476      0     14]\n",
      " [257539      0     14]\n",
      " [259327      0     11]\n",
      " [268267      0     11]\n",
      " [277067      0     11]\n",
      " [278747      0     14]\n",
      " [280578      0     14]\n",
      " [282622      0     14]\n",
      " [286142      0     11]\n",
      " [289576      0     11]\n",
      " [291468      0     11]\n",
      " [297868      0     14]\n",
      " [299650      0     14]\n",
      " [305437      0     14]\n",
      " [307162      0     11]\n",
      " [308857      0     11]\n",
      " [310719      0     14]\n",
      " [312666      0     14]\n",
      " [316188      0     11]\n",
      " [325335      0     11]\n",
      " [330572      0     14]\n",
      " [337914      0     11]\n",
      " [343420      0     14]\n",
      " [352361      0     14]\n",
      " [354182      0     11]\n",
      " [356224      0     11]\n",
      " [358017      0     11]\n",
      " [372785      0     14]\n",
      " [376143      0     11]\n",
      " [384868      0     14]\n",
      " [386771      0     11]\n",
      " [388714      0     14]\n",
      " [396148      0     14]\n",
      " [397704      0     11]\n",
      " [399360      0     14]\n",
      " [401359      0     14]\n",
      " [408463      0     14]\n",
      " [410255      0     14]\n",
      " [411826      0     11]\n",
      " [415901      0     11]\n",
      " [417937      0     11]\n",
      " [423023      0     11]\n",
      " [430519      0     11]\n",
      " [438879      0     14]\n",
      " [440514      0     11]\n",
      " [442469      0     11]\n",
      " [449762      0     14]\n",
      " [455109      0     14]\n",
      " [465926      0     11]\n",
      " [469840      0     14]\n",
      " [483685      0     14]\n",
      " [485563      0     14]\n",
      " [489279      0     11]\n",
      " [492871      0     11]\n",
      " [494473      0     14]\n",
      " [496509      0     11]\n",
      " [498532      0     11]\n",
      " [503938      0     11]\n",
      " [505899      0     14]\n",
      " [512299      0     14]\n",
      " [517378      0     14]\n",
      " [520855      0     11]\n",
      " [524516      0     11]\n",
      " [528362      0     14]\n",
      " [539387      0     11]\n",
      " [542768      0     11]\n",
      " [549717      0     14]\n",
      " [551320      0     14]\n",
      " [556964      0     11]\n",
      " [560868      0     14]\n",
      " [562747      0     11]\n",
      " [566637      0     11]\n",
      " [568672      0     14]\n",
      " [579274      0     11]\n",
      " [582465      0     14]\n",
      " [588865      0     11]\n",
      " [592413      0     14]\n",
      " [594205      0     11]\n",
      " [599717      0     14]\n",
      " [601490      0     14]\n",
      " [605389      0     11]\n",
      " [616163      0     14]\n",
      " [624045      0     11]\n",
      " [625864      0     11]\n",
      " [633014      0     14]\n",
      " [638542      0     14]\n",
      " [642471      0     14]\n",
      " [651531      0     14]\n",
      " [653078      0     11]\n",
      " [658800      0     11]\n",
      " [660577      0     11]]\n"
     ]
    }
   ],
   "source": [
    "print(len(set(event_id)))\n",
    "#9, 10, 0\n",
    "print(result_epochs.events)"
   ],
   "metadata": {
    "collapsed": false,
    "pycharm": {
     "name": "#%%\n"
    }
   }
  },
  {
   "cell_type": "code",
   "execution_count": 738,
   "outputs": [
    {
     "name": "stdout",
     "output_type": "stream",
     "text": [
      "[14 14 14 14 11 11 14 11 14 11 11 11 11 11 14 14 14 14 14 14 11 14 11 11\n",
      " 14 14 11 11 11 14 11 11 14 14 11 14 11 14 11 14 11 14 11 11 11 11 14 14\n",
      " 14 11 14 11 14 14 14 11 11 11 14 14 14 11 11 11 14 14 14 11 11 14 14 11\n",
      " 11 14 11 14 14 11 11 11 14 11 14 11 14 14 11 14 14 14 14 11 11 11 11 11\n",
      " 14 11 11 14 14 11 14 14 14 11 11 14 11 11 11 14 14 14 11 11 14 11 11 14\n",
      " 14 11 14 11 11 14 11 14 11 14 11 14 14 11 14 11 11 14 14 14 14 11 11 11]\n"
     ]
    }
   ],
   "source": [
    "# 0: not supinationclass or pronationclass cue\n",
    "labels = result_epochs.events[:,-1]\n",
    "# labels = np.array(list(map(lambda x:  0 if (not x == 9) else x, labels)))\n",
    "print(labels)\n",
    "\n",
    "# format: trials, channels, samples\n",
    "X = result_epochs.get_data()\n",
    "y = labels\n",
    "\n",
    "kernels, chans, samples = 1, X.shape[1], X.shape[2]"
   ],
   "metadata": {
    "collapsed": false,
    "pycharm": {
     "name": "#%%\n"
    }
   }
  },
  {
   "cell_type": "code",
   "execution_count": 738,
   "outputs": [],
   "source": [],
   "metadata": {
    "collapsed": false,
    "pycharm": {
     "name": "#%%\n"
    }
   }
  },
  {
   "cell_type": "code",
   "execution_count": 739,
   "outputs": [
    {
     "name": "stdout",
     "output_type": "stream",
     "text": [
      "22599\n",
      "4715\n",
      "13804\n"
     ]
    }
   ],
   "source": [
    "print(np.argmax(result_epochs.get_data()[0]))\n",
    "print(np.argmax(result_epochs.get_data()[1]))\n",
    "print(np.argmax(result_epochs.get_data()[2]))\n",
    "\n"
   ],
   "metadata": {
    "collapsed": false,
    "pycharm": {
     "name": "#%%\n"
    }
   }
  },
  {
   "cell_type": "code",
   "execution_count": 740,
   "outputs": [
    {
     "name": "stdout",
     "output_type": "stream",
     "text": [
      "[11 11 11 14 14 11 11 11 11 14 11 14 11 11 14 14 14 11 14 14 14 14 11 11\n",
      " 11 14 11 14 11 14 11 11 14 11 11 14 11 11 14 14 11 11 14 14 11 11 11 14\n",
      " 14 11 11 14 14 11 14 14 14 14 14 14 11 11 11 11 11 11 14 14 14 14 14 11\n",
      " 14 11 14 14 14 14 11 11 14 14 14 14 14 14 11 14 14 14 14 11 11 11 11 11\n",
      " 11 14 11 14]\n"
     ]
    }
   ],
   "source": [
    "X_train, X_test, Y_train, Y_test = train_test_split(X, y, test_size=0.3, random_state=42)\n",
    "\n",
    "print(Y_train)"
   ],
   "metadata": {
    "collapsed": false,
    "pycharm": {
     "name": "#%%\n"
    }
   }
  },
  {
   "cell_type": "code",
   "execution_count": 741,
   "outputs": [
    {
     "name": "stdout",
     "output_type": "stream",
     "text": [
      "X_train shape: (100, 1, 64, 692)\n",
      "100 train samples\n",
      "44 test samples\n"
     ]
    }
   ],
   "source": [
    "# Label Encode it first\n",
    "encoder = OneHotEncoder()\n",
    "encoder.fit([[x] for x in Y_train])\n",
    "Y_train = encoder.transform([[x] for x in Y_train]).toarray()\n",
    "Y_test = encoder.transform([[x] for x in Y_test]).toarray()\n",
    "\n",
    "# Convert label to one-hot encodings\n",
    "# Y_train = np_utils.to_categorical(Y_train)\n",
    "# Y_validate = np_utils.to_categorical(Y_validate)\n",
    "# Y_test = np_utils.to_categorical(Y_test)\n",
    "\n",
    "#convert to (trials, kernels, channels, samples) format.\n",
    "# contains 64 channels and 257 time-points. Set the number of kernels to 1.\n",
    "X_train = X_train.reshape(X_train.shape[0], kernels, chans, samples)\n",
    "X_test = X_test.reshape(X_test.shape[0], kernels, chans, samples)\n",
    "\n",
    "print('X_train shape:', X_train.shape)\n",
    "print(X_train.shape[0], 'train samples')\n",
    "print(X_test.shape[0], 'test samples')"
   ],
   "metadata": {
    "collapsed": false,
    "pycharm": {
     "name": "#%%\n"
    }
   }
  },
  {
   "cell_type": "code",
   "execution_count": 742,
   "outputs": [
    {
     "name": "stdout",
     "output_type": "stream",
     "text": [
      "[[1. 0.]\n",
      " [1. 0.]\n",
      " [1. 0.]\n",
      " [0. 1.]\n",
      " [0. 1.]\n",
      " [1. 0.]\n",
      " [1. 0.]\n",
      " [1. 0.]\n",
      " [1. 0.]\n",
      " [0. 1.]\n",
      " [1. 0.]\n",
      " [0. 1.]\n",
      " [1. 0.]\n",
      " [1. 0.]\n",
      " [0. 1.]\n",
      " [0. 1.]\n",
      " [0. 1.]\n",
      " [1. 0.]\n",
      " [0. 1.]\n",
      " [0. 1.]\n",
      " [0. 1.]\n",
      " [0. 1.]\n",
      " [1. 0.]\n",
      " [1. 0.]\n",
      " [1. 0.]\n",
      " [0. 1.]\n",
      " [1. 0.]\n",
      " [0. 1.]\n",
      " [1. 0.]\n",
      " [0. 1.]\n",
      " [1. 0.]\n",
      " [1. 0.]\n",
      " [0. 1.]\n",
      " [1. 0.]\n",
      " [1. 0.]\n",
      " [0. 1.]\n",
      " [1. 0.]\n",
      " [1. 0.]\n",
      " [0. 1.]\n",
      " [0. 1.]\n",
      " [1. 0.]\n",
      " [1. 0.]\n",
      " [0. 1.]\n",
      " [0. 1.]\n",
      " [1. 0.]\n",
      " [1. 0.]\n",
      " [1. 0.]\n",
      " [0. 1.]\n",
      " [0. 1.]\n",
      " [1. 0.]\n",
      " [1. 0.]\n",
      " [0. 1.]\n",
      " [0. 1.]\n",
      " [1. 0.]\n",
      " [0. 1.]\n",
      " [0. 1.]\n",
      " [0. 1.]\n",
      " [0. 1.]\n",
      " [0. 1.]\n",
      " [0. 1.]\n",
      " [1. 0.]\n",
      " [1. 0.]\n",
      " [1. 0.]\n",
      " [1. 0.]\n",
      " [1. 0.]\n",
      " [1. 0.]\n",
      " [0. 1.]\n",
      " [0. 1.]\n",
      " [0. 1.]\n",
      " [0. 1.]\n",
      " [0. 1.]\n",
      " [1. 0.]\n",
      " [0. 1.]\n",
      " [1. 0.]\n",
      " [0. 1.]\n",
      " [0. 1.]\n",
      " [0. 1.]\n",
      " [0. 1.]\n",
      " [1. 0.]\n",
      " [1. 0.]\n",
      " [0. 1.]\n",
      " [0. 1.]\n",
      " [0. 1.]\n",
      " [0. 1.]\n",
      " [0. 1.]\n",
      " [0. 1.]\n",
      " [1. 0.]\n",
      " [0. 1.]\n",
      " [0. 1.]\n",
      " [0. 1.]\n",
      " [0. 1.]\n",
      " [1. 0.]\n",
      " [1. 0.]\n",
      " [1. 0.]\n",
      " [1. 0.]\n",
      " [1. 0.]\n",
      " [1. 0.]\n",
      " [0. 1.]\n",
      " [1. 0.]\n",
      " [0. 1.]]\n"
     ]
    }
   ],
   "source": [
    "print(Y_train)"
   ],
   "metadata": {
    "collapsed": false,
    "pycharm": {
     "name": "#%%\n"
    }
   }
  },
  {
   "cell_type": "code",
   "execution_count": 743,
   "outputs": [
    {
     "name": "stdout",
     "output_type": "stream",
     "text": [
      "['/device:CPU:0', '/device:XLA_CPU:0', '/device:GPU:0', '/device:XLA_GPU:0']\n",
      "[PhysicalDevice(name='/physical_device:GPU:0', device_type='GPU')]\n"
     ]
    }
   ],
   "source": [
    "# testing gpu\n",
    "from tensorflow.python.client import device_lib\n",
    "import os\n",
    "os.environ[\"CUDA_VISIBLE_DEVICES\"]=\"0\"\n",
    "\n",
    "def get_available_devices():\n",
    "    local_device_protos = device_lib.list_local_devices()\n",
    "    return [x.name for x in local_device_protos]\n",
    "\n",
    "print(get_available_devices())\n",
    "gpus = tf.config.experimental.list_physical_devices('GPU')\n",
    "for physical_device in gpus:\n",
    "    tf.config.experimental.set_memory_growth(physical_device, True)\n",
    "# change the memory fraction as you want...import tensorflow as tf\n",
    "# if gpus:\n",
    "#     # Restrict TensorFlow to only allocate 1GB * 2 of memory on the first GPU\n",
    "#     try:\n",
    "#         tf.config.experimental.set_virtual_device_configuration(\n",
    "#             gpus[0],\n",
    "#             [tf.config.experimental.VirtualDeviceConfiguration(memory_limit=1024 * 2)])\n",
    "#         logical_gpus = tf.config.experimental.list_logical_devices('GPU')\n",
    "#         print(len(gpus), \"Physical GPUs,\", len(logical_gpus), \"Logical GPUs\")\n",
    "#     except RuntimeError as e:\n",
    "#         # Virtual devices must be set before GPUs have been initialized\n",
    "#         print(e)\n",
    "print(gpus)"
   ],
   "metadata": {
    "collapsed": false,
    "pycharm": {
     "name": "#%%\n"
    }
   }
  },
  {
   "cell_type": "code",
   "execution_count": 744,
   "outputs": [
    {
     "name": "stdout",
     "output_type": "stream",
     "text": [
      "Model: \"functional_71\"\n",
      "_________________________________________________________________\n",
      "Layer (type)                 Output Shape              Param #   \n",
      "=================================================================\n",
      "input_36 (InputLayer)        [(None, 1, 64, 692)]      0         \n",
      "_________________________________________________________________\n",
      "conv2d_35 (Conv2D)           (None, 8, 64, 692)        1024      \n",
      "_________________________________________________________________\n",
      "batch_normalization_105 (Bat (None, 8, 64, 692)        32        \n",
      "_________________________________________________________________\n",
      "depthwise_conv2d_35 (Depthwi (None, 16, 1, 692)        1024      \n",
      "_________________________________________________________________\n",
      "batch_normalization_106 (Bat (None, 16, 1, 692)        64        \n",
      "_________________________________________________________________\n",
      "activation_70 (Activation)   (None, 16, 1, 692)        0         \n",
      "_________________________________________________________________\n",
      "average_pooling2d_70 (Averag (None, 16, 1, 173)        0         \n",
      "_________________________________________________________________\n",
      "separable_conv2d_35 (Separab (None, 16, 1, 173)        512       \n",
      "_________________________________________________________________\n",
      "batch_normalization_107 (Bat (None, 16, 1, 173)        64        \n",
      "_________________________________________________________________\n",
      "activation_71 (Activation)   (None, 16, 1, 173)        0         \n",
      "_________________________________________________________________\n",
      "average_pooling2d_71 (Averag (None, 16, 1, 21)         0         \n",
      "_________________________________________________________________\n",
      "dropout_35 (Dropout)         (None, 16, 1, 21)         0         \n",
      "_________________________________________________________________\n",
      "flatten (Flatten)            (None, 336)               0         \n",
      "_________________________________________________________________\n",
      "dense (Dense)                (None, 2)                 674       \n",
      "_________________________________________________________________\n",
      "softmax (Activation)         (None, 2)                 0         \n",
      "=================================================================\n",
      "Total params: 3,394\n",
      "Trainable params: 3,314\n",
      "Non-trainable params: 80\n",
      "_________________________________________________________________\n"
     ]
    }
   ],
   "source": [
    "classes_num = len(eventDescription_offline_paradigm)\n",
    "# configure the EEGNet-8,2,16 model with kernel length of 257 samples (other\n",
    "# model configurations may do better, but this is a good starting point)\n",
    "# class num is one\n",
    "model = EEGNet(nb_classes = classes_num, Chans = chans, Samples = samples,\n",
    "               dropoutRate = 0.8, kernLength = 128, F1 = 8, D = 2, F2 = 16)\n",
    "model.summary()"
   ],
   "metadata": {
    "collapsed": false,
    "pycharm": {
     "name": "#%%\n"
    }
   }
  },
  {
   "cell_type": "code",
   "execution_count": 745,
   "outputs": [],
   "source": [
    "# compile the model and set the optimizers\n",
    "model.compile(loss='categorical_crossentropy', optimizer='adam',\n",
    "              metrics = ['accuracy'])\n",
    "\n",
    "# count number of parameters in the model\n",
    "numParams    = model.count_params()\n",
    "\n",
    "# set a valid path for your system to record model checkpoints\n",
    "checkpointer = ModelCheckpoint(filepath='.\\\\checkpoint.h5', verbose=1,\n",
    "                               save_best_only=True)\n"
   ],
   "metadata": {
    "collapsed": false,
    "pycharm": {
     "name": "#%%\n"
    }
   }
  },
  {
   "cell_type": "code",
   "execution_count": 746,
   "outputs": [],
   "source": [
    "# add callback\n",
    "losses = []\n",
    "accs = []\n",
    "class LossAndAccRecord(Callback):\n",
    "    def on_batch_end(self, batch, logs=None):\n",
    "        losses.append(logs[\"loss\"])\n",
    "        accs.append(logs[\"accuracy\"])\n",
    "\n",
    "\n",
    "    def on_epoch_end(self, epoch, logs=None):\n",
    "        pass\n"
   ],
   "metadata": {
    "collapsed": false,
    "pycharm": {
     "name": "#%%\n"
    }
   }
  },
  {
   "cell_type": "code",
   "execution_count": 747,
   "outputs": [
    {
     "name": "stdout",
     "output_type": "stream",
     "text": [
      "Epoch 1/40\n",
      "1/5 [=====>........................] - ETA: 0s - loss: 0.6627 - accuracy: 0.6500WARNING:tensorflow:Callbacks method `on_train_batch_end` is slow compared to the batch time (batch time: 0.0040s vs `on_train_batch_end` time: 0.0110s). Check your callbacks.\n",
      "5/5 [==============================] - ETA: 0s - loss: 0.7043 - accuracy: 0.5400WARNING:tensorflow:Can save best model only with val_loss available, skipping.\n",
      "5/5 [==============================] - 0s 13ms/step - loss: 0.7043 - accuracy: 0.5400\n",
      "Epoch 2/40\n",
      "5/5 [==============================] - ETA: 0s - loss: 0.6411 - accuracy: 0.6600\b\b\b\b\b\b\b\b\b\b\b\b\b\b\b\b\b\b\b\b\b\b\b\b\b\b\b\b\b\b\b\b\b\b\b\b\b\b\b\b\b\b\b\b\b\b\b\b\b\b\b\b\b\b\b\b\b\b\b\b\b\b\b\b\b\b\b\b\b\b\b\b\b\b\b\b\b\b\b\bWARNING:tensorflow:Can save best model only with val_loss available, skipping.\n",
      "5/5 [==============================] - 0s 12ms/step - loss: 0.6411 - accuracy: 0.6600\n",
      "Epoch 3/40\n",
      "5/5 [==============================] - ETA: 0s - loss: 0.6562 - accuracy: 0.6300\b\b\b\b\b\b\b\b\b\b\b\b\b\b\b\b\b\b\b\b\b\b\b\b\b\b\b\b\b\b\b\b\b\b\b\b\b\b\b\b\b\b\b\b\b\b\b\b\b\b\b\b\b\b\b\b\b\b\b\b\b\b\b\b\b\b\b\b\b\b\b\b\b\b\b\b\b\b\b\bWARNING:tensorflow:Can save best model only with val_loss available, skipping.\n",
      "5/5 [==============================] - 0s 12ms/step - loss: 0.6562 - accuracy: 0.6300\n",
      "Epoch 4/40\n",
      "5/5 [==============================] - ETA: 0s - loss: 0.6475 - accuracy: 0.6300\b\b\b\b\b\b\b\b\b\b\b\b\b\b\b\b\b\b\b\b\b\b\b\b\b\b\b\b\b\b\b\b\b\b\b\b\b\b\b\b\b\b\b\b\b\b\b\b\b\b\b\b\b\b\b\b\b\b\b\b\b\b\b\b\b\b\b\b\b\b\b\b\b\b\b\b\b\b\b\bWARNING:tensorflow:Can save best model only with val_loss available, skipping.\n",
      "5/5 [==============================] - 0s 13ms/step - loss: 0.6475 - accuracy: 0.6300\n",
      "Epoch 5/40\n",
      "5/5 [==============================] - ETA: 0s - loss: 0.6211 - accuracy: 0.6600\b\b\b\b\b\b\b\b\b\b\b\b\b\b\b\b\b\b\b\b\b\b\b\b\b\b\b\b\b\b\b\b\b\b\b\b\b\b\b\b\b\b\b\b\b\b\b\b\b\b\b\b\b\b\b\b\b\b\b\b\b\b\b\b\b\b\b\b\b\b\b\b\b\b\b\b\b\b\b\bWARNING:tensorflow:Can save best model only with val_loss available, skipping.\n",
      "5/5 [==============================] - 0s 11ms/step - loss: 0.6211 - accuracy: 0.6600\n",
      "Epoch 6/40\n",
      "5/5 [==============================] - ETA: 0s - loss: 0.5831 - accuracy: 0.7100\b\b\b\b\b\b\b\b\b\b\b\b\b\b\b\b\b\b\b\b\b\b\b\b\b\b\b\b\b\b\b\b\b\b\b\b\b\b\b\b\b\b\b\b\b\b\b\b\b\b\b\b\b\b\b\b\b\b\b\b\b\b\b\b\b\b\b\b\b\b\b\b\b\b\b\b\b\b\b\bWARNING:tensorflow:Can save best model only with val_loss available, skipping.\n",
      "5/5 [==============================] - 0s 12ms/step - loss: 0.5831 - accuracy: 0.7100\n",
      "Epoch 7/40\n",
      "5/5 [==============================] - ETA: 0s - loss: 0.5771 - accuracy: 0.7100\b\b\b\b\b\b\b\b\b\b\b\b\b\b\b\b\b\b\b\b\b\b\b\b\b\b\b\b\b\b\b\b\b\b\b\b\b\b\b\b\b\b\b\b\b\b\b\b\b\b\b\b\b\b\b\b\b\b\b\b\b\b\b\b\b\b\b\b\b\b\b\b\b\b\b\b\b\b\b\bWARNING:tensorflow:Can save best model only with val_loss available, skipping.\n",
      "5/5 [==============================] - 0s 12ms/step - loss: 0.5771 - accuracy: 0.7100\n",
      "Epoch 8/40\n",
      "5/5 [==============================] - ETA: 0s - loss: 0.5454 - accuracy: 0.7600\b\b\b\b\b\b\b\b\b\b\b\b\b\b\b\b\b\b\b\b\b\b\b\b\b\b\b\b\b\b\b\b\b\b\b\b\b\b\b\b\b\b\b\b\b\b\b\b\b\b\b\b\b\b\b\b\b\b\b\b\b\b\b\b\b\b\b\b\b\b\b\b\b\b\b\b\b\b\b\bWARNING:tensorflow:Can save best model only with val_loss available, skipping.\n",
      "5/5 [==============================] - 0s 12ms/step - loss: 0.5454 - accuracy: 0.7600\n",
      "Epoch 9/40\n",
      "5/5 [==============================] - ETA: 0s - loss: 0.5404 - accuracy: 0.7500\b\b\b\b\b\b\b\b\b\b\b\b\b\b\b\b\b\b\b\b\b\b\b\b\b\b\b\b\b\b\b\b\b\b\b\b\b\b\b\b\b\b\b\b\b\b\b\b\b\b\b\b\b\b\b\b\b\b\b\b\b\b\b\b\b\b\b\b\b\b\b\b\b\b\b\b\b\b\b\bWARNING:tensorflow:Can save best model only with val_loss available, skipping.\n",
      "5/5 [==============================] - 0s 11ms/step - loss: 0.5404 - accuracy: 0.7500\n",
      "Epoch 10/40\n",
      "5/5 [==============================] - ETA: 0s - loss: 0.5285 - accuracy: 0.7600\b\b\b\b\b\b\b\b\b\b\b\b\b\b\b\b\b\b\b\b\b\b\b\b\b\b\b\b\b\b\b\b\b\b\b\b\b\b\b\b\b\b\b\b\b\b\b\b\b\b\b\b\b\b\b\b\b\b\b\b\b\b\b\b\b\b\b\b\b\b\b\b\b\b\b\b\b\b\b\bWARNING:tensorflow:Can save best model only with val_loss available, skipping.\n",
      "5/5 [==============================] - 0s 11ms/step - loss: 0.5285 - accuracy: 0.7600\n",
      "Epoch 11/40\n",
      "5/5 [==============================] - ETA: 0s - loss: 0.5097 - accuracy: 0.7200\b\b\b\b\b\b\b\b\b\b\b\b\b\b\b\b\b\b\b\b\b\b\b\b\b\b\b\b\b\b\b\b\b\b\b\b\b\b\b\b\b\b\b\b\b\b\b\b\b\b\b\b\b\b\b\b\b\b\b\b\b\b\b\b\b\b\b\b\b\b\b\b\b\b\b\b\b\b\b\bWARNING:tensorflow:Can save best model only with val_loss available, skipping.\n",
      "5/5 [==============================] - 0s 11ms/step - loss: 0.5097 - accuracy: 0.7200\n",
      "Epoch 12/40\n",
      "5/5 [==============================] - ETA: 0s - loss: 0.5658 - accuracy: 0.6800\b\b\b\b\b\b\b\b\b\b\b\b\b\b\b\b\b\b\b\b\b\b\b\b\b\b\b\b\b\b\b\b\b\b\b\b\b\b\b\b\b\b\b\b\b\b\b\b\b\b\b\b\b\b\b\b\b\b\b\b\b\b\b\b\b\b\b\b\b\b\b\b\b\b\b\b\b\b\b\bWARNING:tensorflow:Can save best model only with val_loss available, skipping.\n",
      "5/5 [==============================] - 0s 11ms/step - loss: 0.5658 - accuracy: 0.6800\n",
      "Epoch 13/40\n",
      "1/5 [=====>........................] - ETA: 0s - loss: 0.4837 - accuracy: 0.8000WARNING:tensorflow:Can save best model only with val_loss available, skipping.\n",
      "5/5 [==============================] - 0s 10ms/step - loss: 0.4898 - accuracy: 0.7600\n",
      "Epoch 14/40\n",
      "5/5 [==============================] - ETA: 0s - loss: 0.4688 - accuracy: 0.8200\b\b\b\b\b\b\b\b\b\b\b\b\b\b\b\b\b\b\b\b\b\b\b\b\b\b\b\b\b\b\b\b\b\b\b\b\b\b\b\b\b\b\b\b\b\b\b\b\b\b\b\b\b\b\b\b\b\b\b\b\b\b\b\b\b\b\b\b\b\b\b\b\b\b\b\b\b\b\b\bWARNING:tensorflow:Can save best model only with val_loss available, skipping.\n",
      "5/5 [==============================] - 0s 11ms/step - loss: 0.4688 - accuracy: 0.8200\n",
      "Epoch 15/40\n",
      "5/5 [==============================] - ETA: 0s - loss: 0.5239 - accuracy: 0.7600\b\b\b\b\b\b\b\b\b\b\b\b\b\b\b\b\b\b\b\b\b\b\b\b\b\b\b\b\b\b\b\b\b\b\b\b\b\b\b\b\b\b\b\b\b\b\b\b\b\b\b\b\b\b\b\b\b\b\b\b\b\b\b\b\b\b\b\b\b\b\b\b\b\b\b\b\b\b\b\bWARNING:tensorflow:Can save best model only with val_loss available, skipping.\n",
      "5/5 [==============================] - 0s 10ms/step - loss: 0.5239 - accuracy: 0.7600\n",
      "Epoch 16/40\n",
      "5/5 [==============================] - ETA: 0s - loss: 0.4566 - accuracy: 0.7900\b\b\b\b\b\b\b\b\b\b\b\b\b\b\b\b\b\b\b\b\b\b\b\b\b\b\b\b\b\b\b\b\b\b\b\b\b\b\b\b\b\b\b\b\b\b\b\b\b\b\b\b\b\b\b\b\b\b\b\b\b\b\b\b\b\b\b\b\b\b\b\b\b\b\b\b\b\b\b\bWARNING:tensorflow:Can save best model only with val_loss available, skipping.\n",
      "5/5 [==============================] - 0s 11ms/step - loss: 0.4566 - accuracy: 0.7900\n",
      "Epoch 17/40\n",
      "5/5 [==============================] - ETA: 0s - loss: 0.4121 - accuracy: 0.8800\b\b\b\b\b\b\b\b\b\b\b\b\b\b\b\b\b\b\b\b\b\b\b\b\b\b\b\b\b\b\b\b\b\b\b\b\b\b\b\b\b\b\b\b\b\b\b\b\b\b\b\b\b\b\b\b\b\b\b\b\b\b\b\b\b\b\b\b\b\b\b\b\b\b\b\b\b\b\b\bWARNING:tensorflow:Can save best model only with val_loss available, skipping.\n",
      "5/5 [==============================] - 0s 11ms/step - loss: 0.4121 - accuracy: 0.8800\n",
      "Epoch 18/40\n",
      "5/5 [==============================] - ETA: 0s - loss: 0.4099 - accuracy: 0.8300\b\b\b\b\b\b\b\b\b\b\b\b\b\b\b\b\b\b\b\b\b\b\b\b\b\b\b\b\b\b\b\b\b\b\b\b\b\b\b\b\b\b\b\b\b\b\b\b\b\b\b\b\b\b\b\b\b\b\b\b\b\b\b\b\b\b\b\b\b\b\b\b\b\b\b\b\b\b\b\bWARNING:tensorflow:Can save best model only with val_loss available, skipping.\n",
      "5/5 [==============================] - 0s 10ms/step - loss: 0.4099 - accuracy: 0.8300\n",
      "Epoch 19/40\n",
      "5/5 [==============================] - ETA: 0s - loss: 0.4504 - accuracy: 0.7900\b\b\b\b\b\b\b\b\b\b\b\b\b\b\b\b\b\b\b\b\b\b\b\b\b\b\b\b\b\b\b\b\b\b\b\b\b\b\b\b\b\b\b\b\b\b\b\b\b\b\b\b\b\b\b\b\b\b\b\b\b\b\b\b\b\b\b\b\b\b\b\b\b\b\b\b\b\b\b\bWARNING:tensorflow:Can save best model only with val_loss available, skipping.\n",
      "5/5 [==============================] - 0s 11ms/step - loss: 0.4504 - accuracy: 0.7900\n",
      "Epoch 20/40\n",
      "5/5 [==============================] - ETA: 0s - loss: 0.3914 - accuracy: 0.8700\b\b\b\b\b\b\b\b\b\b\b\b\b\b\b\b\b\b\b\b\b\b\b\b\b\b\b\b\b\b\b\b\b\b\b\b\b\b\b\b\b\b\b\b\b\b\b\b\b\b\b\b\b\b\b\b\b\b\b\b\b\b\b\b\b\b\b\b\b\b\b\b\b\b\b\b\b\b\b\bWARNING:tensorflow:Can save best model only with val_loss available, skipping.\n",
      "5/5 [==============================] - 0s 11ms/step - loss: 0.3914 - accuracy: 0.8700\n",
      "Epoch 21/40\n",
      "5/5 [==============================] - ETA: 0s - loss: 0.4134 - accuracy: 0.8300\b\b\b\b\b\b\b\b\b\b\b\b\b\b\b\b\b\b\b\b\b\b\b\b\b\b\b\b\b\b\b\b\b\b\b\b\b\b\b\b\b\b\b\b\b\b\b\b\b\b\b\b\b\b\b\b\b\b\b\b\b\b\b\b\b\b\b\b\b\b\b\b\b\b\b\b\b\b\b\bWARNING:tensorflow:Can save best model only with val_loss available, skipping.\n",
      "5/5 [==============================] - 0s 11ms/step - loss: 0.4134 - accuracy: 0.8300\n",
      "Epoch 22/40\n",
      "1/5 [=====>........................] - ETA: 0s - loss: 0.4713 - accuracy: 0.7500WARNING:tensorflow:Can save best model only with val_loss available, skipping.\n",
      "5/5 [==============================] - 0s 10ms/step - loss: 0.3873 - accuracy: 0.8100\n",
      "Epoch 23/40\n",
      "5/5 [==============================] - ETA: 0s - loss: 0.3575 - accuracy: 0.8600\b\b\b\b\b\b\b\b\b\b\b\b\b\b\b\b\b\b\b\b\b\b\b\b\b\b\b\b\b\b\b\b\b\b\b\b\b\b\b\b\b\b\b\b\b\b\b\b\b\b\b\b\b\b\b\b\b\b\b\b\b\b\b\b\b\b\b\b\b\b\b\b\b\b\b\b\b\b\b\bWARNING:tensorflow:Can save best model only with val_loss available, skipping.\n",
      "5/5 [==============================] - 0s 11ms/step - loss: 0.3575 - accuracy: 0.8600\n",
      "Epoch 24/40\n",
      "5/5 [==============================] - ETA: 0s - loss: 0.3559 - accuracy: 0.8300\b\b\b\b\b\b\b\b\b\b\b\b\b\b\b\b\b\b\b\b\b\b\b\b\b\b\b\b\b\b\b\b\b\b\b\b\b\b\b\b\b\b\b\b\b\b\b\b\b\b\b\b\b\b\b\b\b\b\b\b\b\b\b\b\b\b\b\b\b\b\b\b\b\b\b\b\b\b\b\bWARNING:tensorflow:Can save best model only with val_loss available, skipping.\n",
      "5/5 [==============================] - 0s 10ms/step - loss: 0.3559 - accuracy: 0.8300\n",
      "Epoch 25/40\n",
      "1/5 [=====>........................] - ETA: 0s - loss: 0.4838 - accuracy: 0.7500WARNING:tensorflow:Can save best model only with val_loss available, skipping.\n",
      "5/5 [==============================] - 0s 10ms/step - loss: 0.4231 - accuracy: 0.8400\n",
      "Epoch 26/40\n",
      "5/5 [==============================] - ETA: 0s - loss: 0.3428 - accuracy: 0.8500\b\b\b\b\b\b\b\b\b\b\b\b\b\b\b\b\b\b\b\b\b\b\b\b\b\b\b\b\b\b\b\b\b\b\b\b\b\b\b\b\b\b\b\b\b\b\b\b\b\b\b\b\b\b\b\b\b\b\b\b\b\b\b\b\b\b\b\b\b\b\b\b\b\b\b\b\b\b\b\bWARNING:tensorflow:Can save best model only with val_loss available, skipping.\n",
      "5/5 [==============================] - 0s 11ms/step - loss: 0.3428 - accuracy: 0.8500\n",
      "Epoch 27/40\n",
      "5/5 [==============================] - ETA: 0s - loss: 0.3303 - accuracy: 0.8900\b\b\b\b\b\b\b\b\b\b\b\b\b\b\b\b\b\b\b\b\b\b\b\b\b\b\b\b\b\b\b\b\b\b\b\b\b\b\b\b\b\b\b\b\b\b\b\b\b\b\b\b\b\b\b\b\b\b\b\b\b\b\b\b\b\b\b\b\b\b\b\b\b\b\b\b\b\b\b\bWARNING:tensorflow:Can save best model only with val_loss available, skipping.\n",
      "5/5 [==============================] - 0s 10ms/step - loss: 0.3303 - accuracy: 0.8900\n",
      "Epoch 28/40\n",
      "1/5 [=====>........................] - ETA: 0s - loss: 0.3494 - accuracy: 0.8000WARNING:tensorflow:Can save best model only with val_loss available, skipping.\n",
      "5/5 [==============================] - 0s 10ms/step - loss: 0.3489 - accuracy: 0.8600\n",
      "Epoch 29/40\n",
      "5/5 [==============================] - ETA: 0s - loss: 0.2826 - accuracy: 0.9000\b\b\b\b\b\b\b\b\b\b\b\b\b\b\b\b\b\b\b\b\b\b\b\b\b\b\b\b\b\b\b\b\b\b\b\b\b\b\b\b\b\b\b\b\b\b\b\b\b\b\b\b\b\b\b\b\b\b\b\b\b\b\b\b\b\b\b\b\b\b\b\b\b\b\b\b\b\b\b\bWARNING:tensorflow:Can save best model only with val_loss available, skipping.\n",
      "5/5 [==============================] - 0s 10ms/step - loss: 0.2826 - accuracy: 0.9000\n",
      "Epoch 30/40\n",
      "1/5 [=====>........................] - ETA: 0s - loss: 0.2927 - accuracy: 0.9000WARNING:tensorflow:Can save best model only with val_loss available, skipping.\n",
      "5/5 [==============================] - 0s 10ms/step - loss: 0.3521 - accuracy: 0.8700\n",
      "Epoch 31/40\n",
      "1/5 [=====>........................] - ETA: 0s - loss: 0.2677 - accuracy: 0.9000WARNING:tensorflow:Can save best model only with val_loss available, skipping.\n",
      "5/5 [==============================] - 0s 10ms/step - loss: 0.3111 - accuracy: 0.8900\n",
      "Epoch 32/40\n",
      "1/5 [=====>........................] - ETA: 0s - loss: 0.1837 - accuracy: 1.0000WARNING:tensorflow:Can save best model only with val_loss available, skipping.\n",
      "5/5 [==============================] - 0s 10ms/step - loss: 0.2736 - accuracy: 0.9300\n",
      "Epoch 33/40\n",
      "5/5 [==============================] - ETA: 0s - loss: 0.2749 - accuracy: 0.9300\b\b\b\b\b\b\b\b\b\b\b\b\b\b\b\b\b\b\b\b\b\b\b\b\b\b\b\b\b\b\b\b\b\b\b\b\b\b\b\b\b\b\b\b\b\b\b\b\b\b\b\b\b\b\b\b\b\b\b\b\b\b\b\b\b\b\b\b\b\b\b\b\b\b\b\b\b\b\b\bWARNING:tensorflow:Can save best model only with val_loss available, skipping.\n",
      "5/5 [==============================] - 0s 10ms/step - loss: 0.2749 - accuracy: 0.9300\n",
      "Epoch 34/40\n",
      "1/5 [=====>........................] - ETA: 0s - loss: 0.2605 - accuracy: 0.9500WARNING:tensorflow:Can save best model only with val_loss available, skipping.\n",
      "5/5 [==============================] - 0s 10ms/step - loss: 0.2491 - accuracy: 0.9500\n",
      "Epoch 35/40\n",
      "5/5 [==============================] - ETA: 0s - loss: 0.2485 - accuracy: 0.9700\b\b\b\b\b\b\b\b\b\b\b\b\b\b\b\b\b\b\b\b\b\b\b\b\b\b\b\b\b\b\b\b\b\b\b\b\b\b\b\b\b\b\b\b\b\b\b\b\b\b\b\b\b\b\b\b\b\b\b\b\b\b\b\b\b\b\b\b\b\b\b\b\b\b\b\b\b\b\b\bWARNING:tensorflow:Can save best model only with val_loss available, skipping.\n",
      "5/5 [==============================] - 0s 11ms/step - loss: 0.2485 - accuracy: 0.9700\n",
      "Epoch 36/40\n",
      "5/5 [==============================] - ETA: 0s - loss: 0.2575 - accuracy: 0.9400\b\b\b\b\b\b\b\b\b\b\b\b\b\b\b\b\b\b\b\b\b\b\b\b\b\b\b\b\b\b\b\b\b\b\b\b\b\b\b\b\b\b\b\b\b\b\b\b\b\b\b\b\b\b\b\b\b\b\b\b\b\b\b\b\b\b\b\b\b\b\b\b\b\b\b\b\b\b\b\bWARNING:tensorflow:Can save best model only with val_loss available, skipping.\n",
      "5/5 [==============================] - 0s 11ms/step - loss: 0.2575 - accuracy: 0.9400\n",
      "Epoch 37/40\n",
      "5/5 [==============================] - ETA: 0s - loss: 0.2473 - accuracy: 0.9300\b\b\b\b\b\b\b\b\b\b\b\b\b\b\b\b\b\b\b\b\b\b\b\b\b\b\b\b\b\b\b\b\b\b\b\b\b\b\b\b\b\b\b\b\b\b\b\b\b\b\b\b\b\b\b\b\b\b\b\b\b\b\b\b\b\b\b\b\b\b\b\b\b\b\b\b\b\b\b\bWARNING:tensorflow:Can save best model only with val_loss available, skipping.\n",
      "5/5 [==============================] - 0s 11ms/step - loss: 0.2473 - accuracy: 0.9300\n",
      "Epoch 38/40\n",
      "5/5 [==============================] - ETA: 0s - loss: 0.2402 - accuracy: 0.9300\b\b\b\b\b\b\b\b\b\b\b\b\b\b\b\b\b\b\b\b\b\b\b\b\b\b\b\b\b\b\b\b\b\b\b\b\b\b\b\b\b\b\b\b\b\b\b\b\b\b\b\b\b\b\b\b\b\b\b\b\b\b\b\b\b\b\b\b\b\b\b\b\b\b\b\b\b\b\b\bWARNING:tensorflow:Can save best model only with val_loss available, skipping.\n",
      "5/5 [==============================] - 0s 11ms/step - loss: 0.2402 - accuracy: 0.9300\n",
      "Epoch 39/40\n",
      "5/5 [==============================] - ETA: 0s - loss: 0.1911 - accuracy: 0.9700\b\b\b\b\b\b\b\b\b\b\b\b\b\b\b\b\b\b\b\b\b\b\b\b\b\b\b\b\b\b\b\b\b\b\b\b\b\b\b\b\b\b\b\b\b\b\b\b\b\b\b\b\b\b\b\b\b\b\b\b\b\b\b\b\b\b\b\b\b\b\b\b\b\b\b\b\b\b\b\bWARNING:tensorflow:Can save best model only with val_loss available, skipping.\n",
      "5/5 [==============================] - 0s 11ms/step - loss: 0.1911 - accuracy: 0.9700\n",
      "Epoch 40/40\n",
      "1/5 [=====>........................] - ETA: 0s - loss: 0.1663 - accuracy: 0.9500WARNING:tensorflow:Can save best model only with val_loss available, skipping.\n",
      "5/5 [==============================] - 0s 10ms/step - loss: 0.2167 - accuracy: 0.9400\n"
     ]
    }
   ],
   "source": [
    "# the syntax is {class_1:weight_1, class_2:weight_2,...}. Here just setting\n",
    "# the weights all to be 1\n",
    "# unused\n",
    "class_weights = {0:1, 1:1, 2:1, 3:1}\n",
    "with tf.device('/device:GPU:0'):\n",
    "    fittedModel = model.fit(X_train, Y_train, batch_size = 20, epochs = 40,\n",
    "                        verbose = 1, callbacks=[checkpointer, LossAndAccRecord()])"
   ],
   "metadata": {
    "collapsed": false,
    "pycharm": {
     "name": "#%%\n"
    }
   }
  },
  {
   "cell_type": "code",
   "execution_count": 748,
   "outputs": [],
   "source": [
    "# load optimal weights\n",
    "# model.load_weights('./checkpoint.h5')"
   ],
   "metadata": {
    "collapsed": false,
    "pycharm": {
     "name": "#%%\n"
    }
   }
  },
  {
   "cell_type": "code",
   "execution_count": 749,
   "outputs": [
    {
     "name": "stdout",
     "output_type": "stream",
     "text": [
      "WARNING:tensorflow:6 out of the last 11 calls to <function Model.make_predict_function.<locals>.predict_function at 0x000001F9D21B6040> triggered tf.function retracing. Tracing is expensive and the excessive number of tracings could be due to (1) creating @tf.function repeatedly in a loop, (2) passing tensors with different shapes, (3) passing Python objects instead of tensors. For (1), please define your @tf.function outside of the loop. For (2), @tf.function has experimental_relax_shapes=True option that relaxes argument shapes that can avoid unnecessary retracing. For (3), please refer to https://www.tensorflow.org/tutorials/customization/performance#python_or_tensor_args and https://www.tensorflow.org/api_docs/python/tf/function for  more details.\n",
      "[[0.7848322  0.21516788]\n",
      " [0.4622566  0.53774333]\n",
      " [0.16295695 0.8370431 ]\n",
      " [0.62040293 0.37959713]\n",
      " [0.24747404 0.7525259 ]\n",
      " [0.4759159  0.5240841 ]\n",
      " [0.47766912 0.5223309 ]\n",
      " [0.6814186  0.31858137]\n",
      " [0.56335783 0.43664214]\n",
      " [0.34381306 0.6561869 ]\n",
      " [0.75406444 0.2459356 ]\n",
      " [0.73927116 0.26072887]\n",
      " [0.6210171  0.37898287]\n",
      " [0.5884671  0.4115329 ]\n",
      " [0.2989942  0.70100576]\n",
      " [0.66693074 0.3330693 ]\n",
      " [0.85347074 0.14652926]\n",
      " [0.70599777 0.29400226]\n",
      " [0.6176284  0.3823716 ]\n",
      " [0.36067244 0.6393276 ]\n",
      " [0.65029144 0.34970856]\n",
      " [0.3974576  0.60254234]\n",
      " [0.90887934 0.09112068]\n",
      " [0.43373716 0.56626284]\n",
      " [0.8415356  0.15846442]\n",
      " [0.7255638  0.27443624]\n",
      " [0.8005939  0.19940609]\n",
      " [0.65494174 0.3450583 ]\n",
      " [0.8180809  0.18191907]\n",
      " [0.83313096 0.16686907]\n",
      " [0.7560705  0.24392956]\n",
      " [0.48325983 0.51674014]\n",
      " [0.71952695 0.28047308]\n",
      " [0.32861674 0.67138326]\n",
      " [0.502462   0.4975379 ]\n",
      " [0.8580576  0.14194241]\n",
      " [0.26083595 0.73916405]\n",
      " [0.6302226  0.36977735]\n",
      " [0.8113653  0.18863471]\n",
      " [0.5206038  0.47939622]\n",
      " [0.46065083 0.5393492 ]\n",
      " [0.5562595  0.44374052]\n",
      " [0.11677772 0.88322234]\n",
      " [0.4893076  0.51069236]]\n",
      "Classification accuracy: 0.7727 \n"
     ]
    }
   ],
   "source": [
    "###############################################################################\n",
    "# make prediction on test set.\n",
    "###############################################################################\n",
    "\n",
    "probs       = model.predict(X_test)\n",
    "print(probs)\n",
    "preds       = probs.argmax(axis = -1)\n",
    "acc         = np.mean(preds == Y_test.argmax(axis=-1))\n",
    "print(\"Classification accuracy: %.4f \" % (acc))"
   ],
   "metadata": {
    "collapsed": false,
    "pycharm": {
     "name": "#%%\n"
    }
   }
  },
  {
   "cell_type": "code",
   "execution_count": 750,
   "outputs": [
    {
     "data": {
      "text/plain": "array([[21,  3],\n       [ 7, 13]], dtype=int64)"
     },
     "execution_count": 750,
     "metadata": {},
     "output_type": "execute_result"
    }
   ],
   "source": [
    "confusion_matrix(Y_test.argmax(axis=-1), preds)"
   ],
   "metadata": {
    "collapsed": false,
    "pycharm": {
     "name": "#%%\n"
    }
   }
  },
  {
   "cell_type": "code",
   "execution_count": 751,
   "outputs": [
    {
     "data": {
      "text/plain": "<Figure size 432x288 with 2 Axes>",
      "image/png": "[encoded data removed]"
     },
     "metadata": {
      "needs_background": "light"
     },
     "output_type": "display_data"
    }
   ],
   "source": [
    "import matplotlib.pyplot as plt\n",
    "fig, ax = plt.subplots(2)\n",
    "ax[0].plot(losses)\n",
    "ax[0].set_ylabel('Loss')\n",
    "ax[0].set_xlabel('Epochs')\n",
    "ax[1].plot(accs)\n",
    "ax[1].set_ylabel('Accuracy')\n",
    "ax[1].set_xlabel('Epochs')\n",
    "plt.show()"
   ],
   "metadata": {
    "collapsed": false,
    "pycharm": {
     "name": "#%%\n"
    }
   }
  }
 ],
 "metadata": {
  "kernelspec": {
   "name": "mne",
   "language": "python",
   "display_name": "EEGNET"
  },
  "language_info": {
   "codemirror_mode": {
    "name": "ipython",
    "version": 3
   },
   "file_extension": ".py",
   "mimetype": "text/x-python",
   "name": "python",
   "nbconvert_exporter": "python",
   "pygments_lexer": "ipython3",
   "version": "3.8.5"
  }
 },
 "nbformat": 4,
 "nbformat_minor": 4
}