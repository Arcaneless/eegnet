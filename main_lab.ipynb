{
 "cells": [
  {
   "cell_type": "code",
   "execution_count": 3,
   "metadata": {},
   "outputs": [],
   "source": [
    "import warnings\n",
    "#warnings.filterwarnings('ignore')\n",
    "\n",
    "import numpy as np\n",
    "import pandas as pd\n",
    "\n",
    "import mne\n",
    "from mne import Epochs, pick_types, find_events\n",
    "from mne.channels import read_layout\n",
    "from mne.io import concatenate_raws, read_raw_gdf\n",
    "from mne.decoding import CSP\n",
    "from sklearn.preprocessing import LabelEncoder\n",
    "from sklearn.preprocessing import OneHotEncoder\n",
    "from sklearn.model_selection import train_test_split\n",
    "\n",
    "import tensorflow as tf\n",
    "import tensorflow.keras as keras\n",
    "from tensorflow.keras.callbacks import Callback\n",
    "from tensorflow.keras import utils as np_utils\n",
    "from tensorflow.keras.callbacks import ModelCheckpoint\n",
    "from EEGModels import EEGNet\n",
    "from sklearn.metrics import confusion_matrix\n",
    "\n",
    "\n",
    "'''\n",
    "Parameters:\n",
    "'''\n",
    "tmin = 0\n",
    "tmax = 3"
   ]
  },
  {
   "cell_type": "code",
   "execution_count": 4,
   "metadata": {
    "scrolled": false,
    "pycharm": {
     "name": "#%%\n"
    }
   },
   "outputs": [
    {
     "name": "stdout",
     "output_type": "stream",
     "text": [
      "Extracting EDF parameters from D:\\EEGTest\\Attempted arm and hand movements in persons with spinal cord injury\\P01\\P01 Run 3.gdf...\n",
      "GDF file detected\n",
      "Setting channel info structure...\n",
      "Creating raw.info structure...\n",
      "Extracting EDF parameters from D:\\EEGTest\\Attempted arm and hand movements in persons with spinal cord injury\\P01\\P01 Run 4.gdf...\n",
      "GDF file detected\n",
      "Setting channel info structure...\n",
      "Creating raw.info structure...\n",
      "Extracting EDF parameters from D:\\EEGTest\\Attempted arm and hand movements in persons with spinal cord injury\\P01\\P01 Run 5.gdf...\n",
      "GDF file detected\n",
      "Setting channel info structure...\n",
      "Creating raw.info structure...\n",
      "Extracting EDF parameters from D:\\EEGTest\\Attempted arm and hand movements in persons with spinal cord injury\\P01\\P01 Run 6.gdf...\n",
      "GDF file detected\n",
      "Setting channel info structure...\n",
      "Creating raw.info structure...\n",
      "Extracting EDF parameters from D:\\EEGTest\\Attempted arm and hand movements in persons with spinal cord injury\\P01\\P01 Run 7.gdf...\n",
      "GDF file detected\n",
      "Setting channel info structure...\n",
      "Creating raw.info structure...\n",
      "Extracting EDF parameters from D:\\EEGTest\\Attempted arm and hand movements in persons with spinal cord injury\\P01\\P01 Run 10.gdf...\n",
      "GDF file detected\n",
      "Setting channel info structure...\n",
      "Creating raw.info structure...\n",
      "Extracting EDF parameters from D:\\EEGTest\\Attempted arm and hand movements in persons with spinal cord injury\\P01\\P01 Run 11.gdf...\n",
      "GDF file detected\n",
      "Setting channel info structure...\n",
      "Creating raw.info structure...\n",
      "Extracting EDF parameters from D:\\EEGTest\\Attempted arm and hand movements in persons with spinal cord injury\\P01\\P01 Run 12.gdf...\n",
      "GDF file detected\n",
      "Setting channel info structure...\n",
      "Creating raw.info structure...\n",
      "Extracting EDF parameters from D:\\EEGTest\\Attempted arm and hand movements in persons with spinal cord injury\\P01\\P01 Run 13.gdf...\n",
      "GDF file detected\n",
      "Setting channel info structure...\n",
      "Creating raw.info structure...\n"
     ]
    },
    {
     "name": "stderr",
     "output_type": "stream",
     "text": [
      "C:\\Users\\kings\\Anaconda3\\envs\\mne\\lib\\site-packages\\mne\\io\\edf\\edf.py:996: DeprecationWarning: The binary mode of fromstring is deprecated, as it behaves surprisingly on unicode inputs. Use frombuffer instead\n",
      "  etmode = np.fromstring(etmode, np.uint8).tolist()[0]\n",
      "C:\\Users\\kings\\Anaconda3\\envs\\mne\\lib\\site-packages\\mne\\io\\edf\\edf.py:996: DeprecationWarning: The binary mode of fromstring is deprecated, as it behaves surprisingly on unicode inputs. Use frombuffer instead\n",
      "  etmode = np.fromstring(etmode, np.uint8).tolist()[0]\n",
      "C:\\Users\\kings\\Anaconda3\\envs\\mne\\lib\\site-packages\\mne\\io\\edf\\edf.py:996: DeprecationWarning: The binary mode of fromstring is deprecated, as it behaves surprisingly on unicode inputs. Use frombuffer instead\n",
      "  etmode = np.fromstring(etmode, np.uint8).tolist()[0]\n",
      "C:\\Users\\kings\\Anaconda3\\envs\\mne\\lib\\site-packages\\mne\\io\\edf\\edf.py:996: DeprecationWarning: The binary mode of fromstring is deprecated, as it behaves surprisingly on unicode inputs. Use frombuffer instead\n",
      "  etmode = np.fromstring(etmode, np.uint8).tolist()[0]\n",
      "C:\\Users\\kings\\Anaconda3\\envs\\mne\\lib\\site-packages\\mne\\io\\edf\\edf.py:996: DeprecationWarning: The binary mode of fromstring is deprecated, as it behaves surprisingly on unicode inputs. Use frombuffer instead\n",
      "  etmode = np.fromstring(etmode, np.uint8).tolist()[0]\n",
      "C:\\Users\\kings\\Anaconda3\\envs\\mne\\lib\\site-packages\\mne\\io\\edf\\edf.py:996: DeprecationWarning: The binary mode of fromstring is deprecated, as it behaves surprisingly on unicode inputs. Use frombuffer instead\n",
      "  etmode = np.fromstring(etmode, np.uint8).tolist()[0]\n",
      "C:\\Users\\kings\\Anaconda3\\envs\\mne\\lib\\site-packages\\mne\\io\\edf\\edf.py:996: DeprecationWarning: The binary mode of fromstring is deprecated, as it behaves surprisingly on unicode inputs. Use frombuffer instead\n",
      "  etmode = np.fromstring(etmode, np.uint8).tolist()[0]\n",
      "C:\\Users\\kings\\Anaconda3\\envs\\mne\\lib\\site-packages\\mne\\io\\edf\\edf.py:996: DeprecationWarning: The binary mode of fromstring is deprecated, as it behaves surprisingly on unicode inputs. Use frombuffer instead\n",
      "  etmode = np.fromstring(etmode, np.uint8).tolist()[0]\n",
      "C:\\Users\\kings\\Anaconda3\\envs\\mne\\lib\\site-packages\\mne\\io\\edf\\edf.py:996: DeprecationWarning: The binary mode of fromstring is deprecated, as it behaves surprisingly on unicode inputs. Use frombuffer instead\n",
      "  etmode = np.fromstring(etmode, np.uint8).tolist()[0]\n"
     ]
    }
   ],
   "source": [
    "object_names = ['P03', 'P04', 'P05', 'P06', 'P07', 'P08']\n",
    "object_names = ['P01']\n",
    "runMove = [3, 4, 5, 6, 7, 10, 11, 12, 13]\n",
    "files = []\n",
    "for name in object_names:\n",
    "    for i in runMove:\n",
    "        files.append(read_raw_gdf(f'..\\\\{name}\\\\{name} Run {i}.gdf', stim_channel=None, eog=[61,62,63]))"
   ]
  },
  {
   "cell_type": "code",
   "execution_count": 5,
   "outputs": [
    {
     "name": "stdout",
     "output_type": "stream",
     "text": [
      "9\n"
     ]
    }
   ],
   "source": [
    "print(len(files))"
   ],
   "metadata": {
    "collapsed": false,
    "pycharm": {
     "name": "#%%\n"
    }
   }
  },
  {
   "cell_type": "code",
   "execution_count": 6,
   "metadata": {},
   "outputs": [],
   "source": [
    "eventDescription_offline_paradigm = {\n",
    "    #'768': \"trial start\",\n",
    "    #'785': \"beep\",\n",
    "    #'786': \"fixation cross\",\n",
    "    '776': \"supinationclass cue\",\n",
    "    '777': \"pronationclass cue\",\n",
    "    '779': \"hand openclass cue\",\n",
    "    '925': \"palmar graspclass cue\",\n",
    "    '926': \"ateral graspclass cue\",\n",
    "}\n",
    "# narrow it down to two\n",
    "eventDescription_offline_paradigm = {\n",
    "   '779': \"hand openclass cue\",\n",
    "   '925': \"palmar graspclass cue\",\n",
    "}"
   ]
  },
  {
   "cell_type": "code",
   "execution_count": 7,
   "metadata": {
    "pycharm": {
     "name": "#%%\n"
    }
   },
   "outputs": [
    {
     "name": "stdout",
     "output_type": "stream",
     "text": [
      "Used Annotations descriptions: ['33536', '33544', '33545', '33547', '33554', '33693', '33694', '768', '776', '777', '779', '785', '786', '925', '926']\n",
      "event id: {'hand openclass cue': 11, 'palmar graspclass cue': 14}\n",
      "Not setting metadata\n",
      "Not setting metadata\n",
      "16 matching events found\n",
      "No baseline correction applied\n",
      "0 projection items activated\n",
      "Loading data for 16 events and 769 original time points ...\n",
      "0 bad epochs dropped\n",
      "Used Annotations descriptions: ['33536', '33544', '33545', '33547', '33554', '33693', '33694', '768', '776', '777', '779', '785', '786', '925', '926']\n",
      "event id: {'hand openclass cue': 11, 'palmar graspclass cue': 14}\n",
      "Not setting metadata\n",
      "Not setting metadata\n",
      "16 matching events found\n",
      "No baseline correction applied\n",
      "0 projection items activated\n",
      "Loading data for 16 events and 769 original time points ...\n",
      "0 bad epochs dropped\n",
      "Used Annotations descriptions: ['33536', '33544', '33545', '33547', '33554', '33693', '33694', '768', '776', '777', '779', '785', '786', '925', '926']\n",
      "event id: {'hand openclass cue': 11, 'palmar graspclass cue': 14}\n",
      "Not setting metadata\n",
      "Not setting metadata\n",
      "16 matching events found\n",
      "No baseline correction applied\n",
      "0 projection items activated\n",
      "Loading data for 16 events and 769 original time points ...\n",
      "0 bad epochs dropped\n",
      "Used Annotations descriptions: ['33536', '33544', '33545', '33547', '33554', '33693', '33694', '768', '776', '777', '779', '785', '786', '925', '926']\n",
      "event id: {'hand openclass cue': 11, 'palmar graspclass cue': 14}\n",
      "Not setting metadata\n",
      "Not setting metadata\n",
      "16 matching events found\n",
      "No baseline correction applied\n",
      "0 projection items activated\n",
      "Loading data for 16 events and 769 original time points ...\n",
      "0 bad epochs dropped\n",
      "Used Annotations descriptions: ['33536', '33544', '33545', '33547', '33554', '33693', '33694', '768', '776', '777', '779', '785', '786', '925', '926']\n",
      "event id: {'hand openclass cue': 11, 'palmar graspclass cue': 14}\n",
      "Not setting metadata\n",
      "Not setting metadata\n",
      "16 matching events found\n",
      "No baseline correction applied\n",
      "0 projection items activated\n",
      "Loading data for 16 events and 769 original time points ...\n",
      "0 bad epochs dropped\n",
      "Used Annotations descriptions: ['33536', '33544', '33545', '33547', '33554', '33693', '33694', '768', '776', '777', '779', '785', '786', '925', '926']\n",
      "event id: {'hand openclass cue': 11, 'palmar graspclass cue': 14}\n",
      "Not setting metadata\n",
      "Not setting metadata\n",
      "16 matching events found\n",
      "No baseline correction applied\n",
      "0 projection items activated\n",
      "Loading data for 16 events and 769 original time points ...\n",
      "0 bad epochs dropped\n",
      "Used Annotations descriptions: ['33536', '33544', '33545', '33547', '33554', '33693', '33694', '768', '776', '777', '779', '785', '786', '925', '926']\n",
      "event id: {'hand openclass cue': 11, 'palmar graspclass cue': 14}\n",
      "Not setting metadata\n",
      "Not setting metadata\n",
      "16 matching events found\n",
      "No baseline correction applied\n",
      "0 projection items activated\n",
      "Loading data for 16 events and 769 original time points ...\n",
      "0 bad epochs dropped\n",
      "Used Annotations descriptions: ['33536', '33544', '33545', '33547', '33554', '33693', '33694', '768', '776', '777', '779', '785', '786', '925', '926']\n",
      "event id: {'hand openclass cue': 11, 'palmar graspclass cue': 14}\n",
      "Not setting metadata\n",
      "Not setting metadata\n",
      "16 matching events found\n",
      "No baseline correction applied\n",
      "0 projection items activated\n",
      "Loading data for 16 events and 769 original time points ...\n",
      "0 bad epochs dropped\n",
      "Used Annotations descriptions: ['33536', '33544', '33545', '33547', '33554', '33693', '33694', '768', '776', '777', '779', '785', '786', '925', '926']\n",
      "event id: {'hand openclass cue': 11, 'palmar graspclass cue': 14}\n",
      "Not setting metadata\n",
      "Not setting metadata\n",
      "16 matching events found\n",
      "No baseline correction applied\n",
      "0 projection items activated\n",
      "Loading data for 16 events and 769 original time points ...\n",
      "0 bad epochs dropped\n",
      "Not setting metadata\n",
      "Not setting metadata\n",
      "144 matching events found\n",
      "No baseline correction applied\n",
      "0 bad epochs dropped\n"
     ]
    }
   ],
   "source": [
    "# events = [number of events, position, event code, channel, duration]\n",
    "# file_P01_Run3._raw_extras[0]['events']\n",
    "event_id = {}\n",
    "epochs_list = []\n",
    "for file in files:\n",
    "    event, _ = mne.events_from_annotations(file)\n",
    "    # build event id and filter 1-7 id\n",
    "\n",
    "    contains_both = 0\n",
    "    for i in _: #handle event_id\n",
    "        if i not in eventDescription_offline_paradigm:\n",
    "            continue\n",
    "        contains_both += 1\n",
    "        event_id[eventDescription_offline_paradigm[i]] = _[i]\n",
    "\n",
    "\n",
    "    print(f'event id: {event_id}')\n",
    "    if contains_both == len(eventDescription_offline_paradigm):\n",
    "        epochs = mne.Epochs(file, event, event_id, tmin=tmin, tmax=tmax, baseline=None, event_repeated = 'merge', preload=True)\n",
    "        epochs_list.append(epochs)\n",
    "\n",
    "result_epochs = mne.concatenate_epochs(epochs_list)"
   ]
  },
  {
   "cell_type": "code",
   "execution_count": 8,
   "outputs": [
    {
     "name": "stdout",
     "output_type": "stream",
     "text": [
      "2\n",
      "[[  4921      0     11]\n",
      " [ 12348      0     14]\n",
      " [ 14235      0     14]\n",
      " [ 22479      0     11]\n",
      " [ 27539      0     14]\n",
      " [ 34798      0     14]\n",
      " [ 38215      0     14]\n",
      " [ 43603      0     11]\n",
      " [ 48658      0     11]\n",
      " [ 50450      0     11]\n",
      " [ 54233      0     11]\n",
      " [ 56175      0     11]\n",
      " [ 57730      0     14]\n",
      " [ 59516      0     14]\n",
      " [ 67881      0     14]\n",
      " [ 71533      0     11]\n",
      " [ 77933      0     14]\n",
      " [ 83666      0     14]\n",
      " [ 88626      0     14]\n",
      " [ 94107      0     14]\n",
      " [ 95884      0     11]\n",
      " [ 97453      0     11]\n",
      " [ 99047      0     14]\n",
      " [100725      0     11]\n",
      " [102510      0     14]\n",
      " [115084      0     11]\n",
      " [116739      0     11]\n",
      " [120328      0     11]\n",
      " [123895      0     11]\n",
      " [129109      0     11]\n",
      " [131114      0     14]\n",
      " [147452      0     14]\n",
      " [155883      0     14]\n",
      " [168382      0     14]\n",
      " [175549      0     14]\n",
      " [178855      0     14]\n",
      " [183912      0     11]\n",
      " [187456      0     14]\n",
      " [196267      0     11]\n",
      " [198195      0     11]\n",
      " [200068      0     14]\n",
      " [201798      0     14]\n",
      " [203398      0     11]\n",
      " [208525      0     11]\n",
      " [212341      0     11]\n",
      " [214069      0     14]\n",
      " [219871      0     11]\n",
      " [223440      0     11]\n",
      " [233404      0     14]\n",
      " [239388      0     14]\n",
      " [244429      0     11]\n",
      " [248133      0     14]\n",
      " [249742      0     11]\n",
      " [251482      0     14]\n",
      " [255314      0     11]\n",
      " [260314      0     14]\n",
      " [263828      0     11]\n",
      " [265517      0     14]\n",
      " [269200      0     11]\n",
      " [274672      0     11]\n",
      " [278193      0     11]\n",
      " [283560      0     11]\n",
      " [286899      0     14]\n",
      " [291731      0     14]\n",
      " [299751      0     14]\n",
      " [301625      0     11]\n",
      " [305514      0     14]\n",
      " [314392      0     11]\n",
      " [315954      0     14]\n",
      " [327337      0     14]\n",
      " [332400      0     14]\n",
      " [334188      0     11]\n",
      " [343128      0     11]\n",
      " [351928      0     11]\n",
      " [353608      0     14]\n",
      " [355439      0     14]\n",
      " [357483      0     14]\n",
      " [361003      0     11]\n",
      " [364437      0     11]\n",
      " [366329      0     11]\n",
      " [372729      0     14]\n",
      " [374511      0     14]\n",
      " [380298      0     14]\n",
      " [382023      0     11]\n",
      " [383718      0     11]\n",
      " [385580      0     14]\n",
      " [387527      0     14]\n",
      " [391049      0     11]\n",
      " [400196      0     11]\n",
      " [405433      0     14]\n",
      " [412775      0     11]\n",
      " [418281      0     14]\n",
      " [427222      0     14]\n",
      " [429043      0     11]\n",
      " [431085      0     11]\n",
      " [432878      0     11]\n",
      " [447646      0     14]\n",
      " [451004      0     11]\n",
      " [459729      0     14]\n",
      " [461632      0     11]\n",
      " [463575      0     14]\n",
      " [471009      0     14]\n",
      " [472565      0     11]\n",
      " [474221      0     14]\n",
      " [476220      0     14]\n",
      " [483324      0     14]\n",
      " [485116      0     14]\n",
      " [486687      0     11]\n",
      " [490762      0     11]\n",
      " [492798      0     11]\n",
      " [497884      0     11]\n",
      " [505380      0     11]\n",
      " [513740      0     14]\n",
      " [515375      0     11]\n",
      " [517330      0     11]\n",
      " [524623      0     14]\n",
      " [529970      0     14]\n",
      " [540787      0     11]\n",
      " [544701      0     14]\n",
      " [558546      0     14]\n",
      " [560424      0     14]\n",
      " [564140      0     11]\n",
      " [567732      0     11]\n",
      " [569334      0     14]\n",
      " [571370      0     11]\n",
      " [573393      0     11]\n",
      " [578799      0     11]\n",
      " [580760      0     14]\n",
      " [587160      0     14]\n",
      " [592239      0     14]\n",
      " [595716      0     11]\n",
      " [599377      0     11]\n",
      " [603223      0     14]\n",
      " [614248      0     11]\n",
      " [617629      0     11]\n",
      " [624578      0     14]\n",
      " [626181      0     14]\n",
      " [631825      0     11]\n",
      " [635729      0     14]\n",
      " [637608      0     11]\n",
      " [641498      0     11]\n",
      " [643533      0     14]\n",
      " [654135      0     11]\n",
      " [657326      0     14]]\n"
     ]
    }
   ],
   "source": [
    "print(len(set(event_id)))\n",
    "#9, 10, 0\n",
    "print(result_epochs.events)"
   ],
   "metadata": {
    "collapsed": false,
    "pycharm": {
     "name": "#%%\n"
    }
   }
  },
  {
   "cell_type": "code",
   "execution_count": 9,
   "outputs": [
    {
     "name": "stdout",
     "output_type": "stream",
     "text": [
      "[11 14 14 11 14 14 14 11 11 11 11 11 14 14 14 11 14 14 14 14 11 11 14 11\n",
      " 14 11 11 11 11 11 14 14 14 14 14 14 11 14 11 11 14 14 11 11 11 14 11 11\n",
      " 14 14 11 14 11 14 11 14 11 14 11 11 11 11 14 14 14 11 14 11 14 14 14 11\n",
      " 11 11 14 14 14 11 11 11 14 14 14 11 11 14 14 11 11 14 11 14 14 11 11 11\n",
      " 14 11 14 11 14 14 11 14 14 14 14 11 11 11 11 11 14 11 11 14 14 11 14 14\n",
      " 14 11 11 14 11 11 11 14 14 14 11 11 14 11 11 14 14 11 14 11 11 14 11 14]\n"
     ]
    }
   ],
   "source": [
    "# 0: not supinationclass or pronationclass cue\n",
    "labels = result_epochs.events[:,-1]\n",
    "# labels = np.array(list(map(lambda x:  0 if (not x == 9) else x, labels)))\n",
    "print(labels)\n",
    "\n",
    "# format: trials, channels, samples\n",
    "X = result_epochs.get_data()\n",
    "y = labels\n",
    "\n",
    "kernels, chans, samples = 1, X.shape[1], X.shape[2]"
   ],
   "metadata": {
    "collapsed": false,
    "pycharm": {
     "name": "#%%\n"
    }
   }
  },
  {
   "cell_type": "code",
   "execution_count": 9,
   "outputs": [],
   "source": [],
   "metadata": {
    "collapsed": false,
    "pycharm": {
     "name": "#%%\n"
    }
   }
  },
  {
   "cell_type": "code",
   "execution_count": 10,
   "outputs": [
    {
     "name": "stdout",
     "output_type": "stream",
     "text": [
      "21417\n",
      "20886\n",
      "22053\n"
     ]
    }
   ],
   "source": [
    "print(np.argmax(result_epochs.get_data()[0]))\n",
    "print(np.argmax(result_epochs.get_data()[1]))\n",
    "print(np.argmax(result_epochs.get_data()[2]))\n",
    "\n"
   ],
   "metadata": {
    "collapsed": false,
    "pycharm": {
     "name": "#%%\n"
    }
   }
  },
  {
   "cell_type": "code",
   "execution_count": 11,
   "outputs": [
    {
     "name": "stdout",
     "output_type": "stream",
     "text": [
      "[11 14 14 11 14 11 11 11 11 14 14 14 11 11 11 11 14 14 14 11 11 14 11 11\n",
      " 11 11 11 14 14 14 11 11 14 14 14 11 14 14 11 14 11 14 14 14 14 11 14 14\n",
      " 11 14 11 11 11 14 14 11 14 14 11 14 11 11 11 14 11 11 14 14 14 14 11 11\n",
      " 11 14 11 14 11 14 11 14 14 14 11 11 14 11 11 11 14 14 14 14 11 14 14 14\n",
      " 11 11 11 14 11 11 14 11 14 11 14 11 14 11 11 14 14 14 11]\n"
     ]
    }
   ],
   "source": [
    "X_train, X_test, Y_train, Y_test = train_test_split(X, y, test_size=0.2, random_state=42)\n",
    "\n",
    "print(Y_train)"
   ],
   "metadata": {
    "collapsed": false,
    "pycharm": {
     "name": "#%%\n"
    }
   }
  },
  {
   "cell_type": "code",
   "execution_count": 12,
   "outputs": [
    {
     "name": "stdout",
     "output_type": "stream",
     "text": [
      "X_train shape: (115, 1, 64, 769)\n",
      "115 train samples\n",
      "29 test samples\n"
     ]
    }
   ],
   "source": [
    "# Label Encode it first\n",
    "encoder = OneHotEncoder()\n",
    "encoder.fit([[x] for x in Y_train])\n",
    "Y_train = encoder.transform([[x] for x in Y_train]).toarray()\n",
    "Y_test = encoder.transform([[x] for x in Y_test]).toarray()\n",
    "\n",
    "# Convert label to one-hot encodings\n",
    "# Y_train = np_utils.to_categorical(Y_train)\n",
    "# Y_validate = np_utils.to_categorical(Y_validate)\n",
    "# Y_test = np_utils.to_categorical(Y_test)\n",
    "\n",
    "#convert to (trials, kernels, channels, samples) format.\n",
    "# contains 64 channels and 257 time-points. Set the number of kernels to 1.\n",
    "X_train = X_train.reshape(X_train.shape[0], kernels, chans, samples)\n",
    "X_test = X_test.reshape(X_test.shape[0], kernels, chans, samples)\n",
    "\n",
    "print('X_train shape:', X_train.shape)\n",
    "print(X_train.shape[0], 'train samples')\n",
    "print(X_test.shape[0], 'test samples')"
   ],
   "metadata": {
    "collapsed": false,
    "pycharm": {
     "name": "#%%\n"
    }
   }
  },
  {
   "cell_type": "code",
   "execution_count": 13,
   "outputs": [
    {
     "name": "stdout",
     "output_type": "stream",
     "text": [
      "[[1. 0.]\n",
      " [0. 1.]\n",
      " [0. 1.]\n",
      " [1. 0.]\n",
      " [0. 1.]\n",
      " [1. 0.]\n",
      " [1. 0.]\n",
      " [1. 0.]\n",
      " [1. 0.]\n",
      " [0. 1.]\n",
      " [0. 1.]\n",
      " [0. 1.]\n",
      " [1. 0.]\n",
      " [1. 0.]\n",
      " [1. 0.]\n",
      " [1. 0.]\n",
      " [0. 1.]\n",
      " [0. 1.]\n",
      " [0. 1.]\n",
      " [1. 0.]\n",
      " [1. 0.]\n",
      " [0. 1.]\n",
      " [1. 0.]\n",
      " [1. 0.]\n",
      " [1. 0.]\n",
      " [1. 0.]\n",
      " [1. 0.]\n",
      " [0. 1.]\n",
      " [0. 1.]\n",
      " [0. 1.]\n",
      " [1. 0.]\n",
      " [1. 0.]\n",
      " [0. 1.]\n",
      " [0. 1.]\n",
      " [0. 1.]\n",
      " [1. 0.]\n",
      " [0. 1.]\n",
      " [0. 1.]\n",
      " [1. 0.]\n",
      " [0. 1.]\n",
      " [1. 0.]\n",
      " [0. 1.]\n",
      " [0. 1.]\n",
      " [0. 1.]\n",
      " [0. 1.]\n",
      " [1. 0.]\n",
      " [0. 1.]\n",
      " [0. 1.]\n",
      " [1. 0.]\n",
      " [0. 1.]\n",
      " [1. 0.]\n",
      " [1. 0.]\n",
      " [1. 0.]\n",
      " [0. 1.]\n",
      " [0. 1.]\n",
      " [1. 0.]\n",
      " [0. 1.]\n",
      " [0. 1.]\n",
      " [1. 0.]\n",
      " [0. 1.]\n",
      " [1. 0.]\n",
      " [1. 0.]\n",
      " [1. 0.]\n",
      " [0. 1.]\n",
      " [1. 0.]\n",
      " [1. 0.]\n",
      " [0. 1.]\n",
      " [0. 1.]\n",
      " [0. 1.]\n",
      " [0. 1.]\n",
      " [1. 0.]\n",
      " [1. 0.]\n",
      " [1. 0.]\n",
      " [0. 1.]\n",
      " [1. 0.]\n",
      " [0. 1.]\n",
      " [1. 0.]\n",
      " [0. 1.]\n",
      " [1. 0.]\n",
      " [0. 1.]\n",
      " [0. 1.]\n",
      " [0. 1.]\n",
      " [1. 0.]\n",
      " [1. 0.]\n",
      " [0. 1.]\n",
      " [1. 0.]\n",
      " [1. 0.]\n",
      " [1. 0.]\n",
      " [0. 1.]\n",
      " [0. 1.]\n",
      " [0. 1.]\n",
      " [0. 1.]\n",
      " [1. 0.]\n",
      " [0. 1.]\n",
      " [0. 1.]\n",
      " [0. 1.]\n",
      " [1. 0.]\n",
      " [1. 0.]\n",
      " [1. 0.]\n",
      " [0. 1.]\n",
      " [1. 0.]\n",
      " [1. 0.]\n",
      " [0. 1.]\n",
      " [1. 0.]\n",
      " [0. 1.]\n",
      " [1. 0.]\n",
      " [0. 1.]\n",
      " [1. 0.]\n",
      " [0. 1.]\n",
      " [1. 0.]\n",
      " [1. 0.]\n",
      " [0. 1.]\n",
      " [0. 1.]\n",
      " [0. 1.]\n",
      " [1. 0.]]\n"
     ]
    }
   ],
   "source": [
    "print(Y_train)"
   ],
   "metadata": {
    "collapsed": false,
    "pycharm": {
     "name": "#%%\n"
    }
   }
  },
  {
   "cell_type": "code",
   "execution_count": 14,
   "outputs": [
    {
     "name": "stdout",
     "output_type": "stream",
     "text": [
      "['/device:CPU:0', '/device:XLA_CPU:0', '/device:GPU:0', '/device:XLA_GPU:0']\n",
      "[PhysicalDevice(name='/physical_device:GPU:0', device_type='GPU')]\n"
     ]
    }
   ],
   "source": [
    "# testing gpu\n",
    "from tensorflow.python.client import device_lib\n",
    "import os\n",
    "os.environ[\"CUDA_VISIBLE_DEVICES\"]=\"0\"\n",
    "\n",
    "def get_available_devices():\n",
    "    local_device_protos = device_lib.list_local_devices()\n",
    "    return [x.name for x in local_device_protos]\n",
    "\n",
    "print(get_available_devices())\n",
    "gpus = tf.config.experimental.list_physical_devices('GPU')\n",
    "for physical_device in gpus:\n",
    "    tf.config.experimental.set_memory_growth(physical_device, True)\n",
    "# change the memory fraction as you want...import tensorflow as tf\n",
    "# if gpus:\n",
    "#     # Restrict TensorFlow to only allocate 1GB * 2 of memory on the first GPU\n",
    "#     try:\n",
    "#         tf.config.experimental.set_virtual_device_configuration(\n",
    "#             gpus[0],\n",
    "#             [tf.config.experimental.VirtualDeviceConfiguration(memory_limit=1024 * 2)])\n",
    "#         logical_gpus = tf.config.experimental.list_logical_devices('GPU')\n",
    "#         print(len(gpus), \"Physical GPUs,\", len(logical_gpus), \"Logical GPUs\")\n",
    "#     except RuntimeError as e:\n",
    "#         # Virtual devices must be set before GPUs have been initialized\n",
    "#         print(e)\n",
    "print(gpus)"
   ],
   "metadata": {
    "collapsed": false,
    "pycharm": {
     "name": "#%%\n"
    }
   }
  },
  {
   "cell_type": "code",
   "execution_count": 15,
   "outputs": [
    {
     "name": "stdout",
     "output_type": "stream",
     "text": [
      "Model: \"functional_1\"\n",
      "_________________________________________________________________\n",
      "Layer (type)                 Output Shape              Param #   \n",
      "=================================================================\n",
      "input_1 (InputLayer)         [(None, 1, 64, 769)]      0         \n",
      "_________________________________________________________________\n",
      "conv2d (Conv2D)              (None, 8, 64, 769)        1024      \n",
      "_________________________________________________________________\n",
      "batch_normalization (BatchNo (None, 8, 64, 769)        32        \n",
      "_________________________________________________________________\n",
      "depthwise_conv2d (DepthwiseC (None, 16, 1, 769)        1024      \n",
      "_________________________________________________________________\n",
      "batch_normalization_1 (Batch (None, 16, 1, 769)        64        \n",
      "_________________________________________________________________\n",
      "activation (Activation)      (None, 16, 1, 769)        0         \n",
      "_________________________________________________________________\n",
      "average_pooling2d (AveragePo (None, 16, 1, 192)        0         \n",
      "_________________________________________________________________\n",
      "separable_conv2d (SeparableC (None, 16, 1, 192)        512       \n",
      "_________________________________________________________________\n",
      "batch_normalization_2 (Batch (None, 16, 1, 192)        64        \n",
      "_________________________________________________________________\n",
      "activation_1 (Activation)    (None, 16, 1, 192)        0         \n",
      "_________________________________________________________________\n",
      "average_pooling2d_1 (Average (None, 16, 1, 24)         0         \n",
      "_________________________________________________________________\n",
      "dropout (Dropout)            (None, 16, 1, 24)         0         \n",
      "_________________________________________________________________\n",
      "flatten (Flatten)            (None, 384)               0         \n",
      "_________________________________________________________________\n",
      "dense (Dense)                (None, 2)                 770       \n",
      "_________________________________________________________________\n",
      "softmax (Activation)         (None, 2)                 0         \n",
      "=================================================================\n",
      "Total params: 3,490\n",
      "Trainable params: 3,410\n",
      "Non-trainable params: 80\n",
      "_________________________________________________________________\n"
     ]
    }
   ],
   "source": [
    "classes_num = len(eventDescription_offline_paradigm)\n",
    "# configure the EEGNet-8,2,16 model with kernel length of 257 samples (other\n",
    "# model configurations may do better, but this is a good starting point)\n",
    "# class num is one\n",
    "model = EEGNet(nb_classes = classes_num, Chans = chans, Samples = samples,\n",
    "               dropoutRate = 0.5, kernLength = 128, F1 = 8, D = 2, F2 = 16)\n",
    "model.summary()"
   ],
   "metadata": {
    "collapsed": false,
    "pycharm": {
     "name": "#%%\n"
    }
   }
  },
  {
   "cell_type": "code",
   "execution_count": 16,
   "outputs": [],
   "source": [
    "# compile the model and set the optimizers\n",
    "model.compile(loss='categorical_crossentropy', optimizer='adam',\n",
    "              metrics = ['accuracy'])\n",
    "\n",
    "# count number of parameters in the model\n",
    "numParams    = model.count_params()\n",
    "\n",
    "# set a valid path for your system to record model checkpoints\n",
    "checkpointer = ModelCheckpoint(filepath='./checkpoint.h5', verbose=1,\n",
    "                               save_best_only=True)\n"
   ],
   "metadata": {
    "collapsed": false,
    "pycharm": {
     "name": "#%%\n"
    }
   }
  },
  {
   "cell_type": "code",
   "execution_count": 17,
   "outputs": [],
   "source": [
    "# add callback\n",
    "losses = []\n",
    "accs = []\n",
    "class LossAndAccRecord(Callback):\n",
    "    def on_batch_end(self, batch, logs=None):\n",
    "        losses.append(logs[\"loss\"])\n",
    "        accs.append(logs[\"accuracy\"])\n",
    "\n",
    "\n",
    "    def on_epoch_end(self, epoch, logs=None):\n",
    "        pass\n"
   ],
   "metadata": {
    "collapsed": false,
    "pycharm": {
     "name": "#%%\n"
    }
   }
  },
  {
   "cell_type": "code",
   "execution_count": 18,
   "outputs": [
    {
     "name": "stdout",
     "output_type": "stream",
     "text": [
      "Epoch 1/20\n",
      "12/12 [==============================] - ETA: 0s - loss: 0.7383 - accuracy: 0.4522\b\b\b\b\b\b\b\b\b\b\b\b\b\b\b\b\b\b\b\b\b\b\b\b\b\b\b\b\b\b\b\b\b\b\b\b\b\b\b\b\b\b\b\b\b\b\b\b\b\b\b\b\b\b\b\b\b\b\b\b\b\b\b\b\b\b\b\b\b\b\b\b\b\b\b\b\b\b\b\b\b\b\b\b\b\b\b\b\b\b\b\b\b\b\b\b\b\b\b\b\b\b\b\b\b\b\b\b\b\b\b\b\b\b\b\b\b\b\b\b\b\b\b\b\b\b\b\b\b\b\b\b\b\b\b\b\b\b\b\b\b\b\b\b\b\b\b\b\b\b\b\b\b\b\b\b\b\b\b\b\b\b\b\b\b\b\b\b\b\b\b\b\b\b\b\b\b\b\b\b\b\b\b\b\b\b\b\b\b\b\b\b\b\b\b\b\b\b\b\b\b\b\b\b\b\b\b\b\b\b\b\b\b\b\b\b\b\b\b\b\b\b\b\b\b\b\b\b\b\b\b\b\b\b\b\b\b\b\b\b\b\b\b\b\b\bWARNING:tensorflow:Can save best model only with val_loss available, skipping.\n",
      "12/12 [==============================] - 0s 15ms/step - loss: 0.7383 - accuracy: 0.4522\n",
      "Epoch 2/20\n",
      " 7/12 [================>.............] - ETA: 0s - loss: 0.6768 - accuracy: 0.5429\b\b\b\b\b\b\b\b\b\b\b\b\b\b\b\b\b\b\b\b\b\b\b\b\b\b\b\b\b\b\b\b\b\b\b\b\b\b\b\b\b\b\b\b\b\b\b\b\b\b\b\b\b\b\b\b\b\b\b\b\b\b\b\b\b\b\b\b\b\b\b\b\b\b\b\b\b\b\b\b\b\bWARNING:tensorflow:Can save best model only with val_loss available, skipping.\n",
      "12/12 [==============================] - 0s 9ms/step - loss: 0.6984 - accuracy: 0.5304\n",
      "Epoch 3/20\n",
      " 9/12 [=====================>........] - ETA: 0s - loss: 0.6726 - accuracy: 0.6111\b\b\b\b\b\b\b\b\b\b\b\b\b\b\b\b\b\b\b\b\b\b\b\b\b\b\b\b\b\b\b\b\b\b\b\b\b\b\b\b\b\b\b\b\b\b\b\b\b\b\b\b\b\b\b\b\b\b\b\b\b\b\b\b\b\b\b\b\b\b\b\b\b\b\b\b\b\b\b\b\b\b\b\b\b\b\b\b\b\b\b\b\b\b\b\b\b\b\b\b\b\b\b\b\b\b\b\b\b\b\b\b\b\b\b\b\b\b\b\b\b\b\b\b\b\b\b\b\b\b\b\b\b\b\b\b\b\b\b\b\b\b\b\b\b\b\b\b\b\b\b\b\b\b\b\b\b\b\b\b\b\b\b\b\b\b\b\b\b\b\b\b\b\b\b\b\b\b\b\b\b\b\b\b\b\b\b\b\b\b\b\b\b\b\b\b\b\b\b\b\b\b\b\b\b\b\b\b\b\b\b\b\b\b\b\b\b\b\b\b\b\b\b\b\b\b\b\b\b\b\b\b\b\b\b\b\b\b\b\b\b\b\b\b\b\bWARNING:tensorflow:Can save best model only with val_loss available, skipping.\n",
      "12/12 [==============================] - 0s 19ms/step - loss: 0.6455 - accuracy: 0.6609\n",
      "Epoch 4/20\n",
      "11/12 [==========================>...] - ETA: 0s - loss: 0.6254 - accuracy: 0.6455\b\b\b\b\b\b\b\b\b\b\b\b\b\b\b\b\b\b\b\b\b\b\b\b\b\b\b\b\b\b\b\b\b\b\b\b\b\b\b\b\b\b\b\b\b\b\b\b\b\b\b\b\b\b\b\b\b\b\b\b\b\b\b\b\b\b\b\b\b\b\b\b\b\b\b\b\b\b\b\b\b\b\b\b\b\b\b\b\b\b\b\b\b\b\b\b\b\b\b\b\b\b\b\b\b\b\b\b\b\b\b\b\b\b\b\b\b\b\b\b\b\b\b\b\b\b\b\b\b\b\b\b\b\b\b\b\b\b\b\b\b\b\b\b\b\b\b\b\b\b\b\b\b\b\b\b\b\b\b\b\b\b\b\bWARNING:tensorflow:Can save best model only with val_loss available, skipping.\n",
      "12/12 [==============================] - 0s 10ms/step - loss: 0.6282 - accuracy: 0.6348\n",
      "Epoch 5/20\n",
      "11/12 [==========================>...] - ETA: 0s - loss: 0.6650 - accuracy: 0.6364\b\b\b\b\b\b\b\b\b\b\b\b\b\b\b\b\b\b\b\b\b\b\b\b\b\b\b\b\b\b\b\b\b\b\b\b\b\b\b\b\b\b\b\b\b\b\b\b\b\b\b\b\b\b\b\b\b\b\b\b\b\b\b\b\b\b\b\b\b\b\b\b\b\b\b\b\b\b\b\b\b\b\b\b\b\b\b\b\b\b\b\b\b\b\b\b\b\b\b\b\b\b\b\b\b\b\b\b\b\b\b\b\b\b\b\b\b\b\b\b\b\b\b\b\b\b\b\b\b\b\b\b\b\b\b\b\b\b\b\b\b\b\b\b\b\b\b\b\b\b\b\b\b\b\b\b\b\b\b\b\b\b\b\bWARNING:tensorflow:Can save best model only with val_loss available, skipping.\n",
      "12/12 [==============================] - 0s 9ms/step - loss: 0.6568 - accuracy: 0.6522\n",
      "Epoch 6/20\n",
      " 9/12 [=====================>........] - ETA: 0s - loss: 0.5865 - accuracy: 0.6667\b\b\b\b\b\b\b\b\b\b\b\b\b\b\b\b\b\b\b\b\b\b\b\b\b\b\b\b\b\b\b\b\b\b\b\b\b\b\b\b\b\b\b\b\b\b\b\b\b\b\b\b\b\b\b\b\b\b\b\b\b\b\b\b\b\b\b\b\b\b\b\b\b\b\b\b\b\b\b\b\b\b\b\b\b\b\b\b\b\b\b\b\b\b\b\b\b\b\b\b\b\b\b\b\b\b\b\b\b\b\b\b\b\b\b\b\b\b\b\b\b\b\b\b\b\b\b\b\b\b\b\b\b\b\b\b\b\b\b\b\b\b\b\b\b\b\b\b\b\b\b\b\b\b\b\b\b\b\b\b\b\b\b\bWARNING:tensorflow:Can save best model only with val_loss available, skipping.\n",
      "12/12 [==============================] - 0s 18ms/step - loss: 0.6055 - accuracy: 0.6696\n",
      "Epoch 7/20\n",
      "11/12 [==========================>...] - ETA: 0s - loss: 0.5644 - accuracy: 0.7000\b\b\b\b\b\b\b\b\b\b\b\b\b\b\b\b\b\b\b\b\b\b\b\b\b\b\b\b\b\b\b\b\b\b\b\b\b\b\b\b\b\b\b\b\b\b\b\b\b\b\b\b\b\b\b\b\b\b\b\b\b\b\b\b\b\b\b\b\b\b\b\b\b\b\b\b\b\b\b\b\b\b\b\b\b\b\b\b\b\b\b\b\b\b\b\b\b\b\b\b\b\b\b\b\b\b\b\b\b\b\b\b\b\b\b\b\b\b\b\b\b\b\b\b\b\b\b\b\b\b\b\b\b\b\b\b\b\b\b\b\b\b\b\b\b\b\b\b\b\b\b\b\b\b\b\b\b\b\b\b\b\b\b\bWARNING:tensorflow:Can save best model only with val_loss available, skipping.\n",
      "12/12 [==============================] - 0s 10ms/step - loss: 0.5688 - accuracy: 0.6957\n",
      "Epoch 8/20\n",
      "11/12 [==========================>...] - ETA: 0s - loss: 0.5798 - accuracy: 0.6909\b\b\b\b\b\b\b\b\b\b\b\b\b\b\b\b\b\b\b\b\b\b\b\b\b\b\b\b\b\b\b\b\b\b\b\b\b\b\b\b\b\b\b\b\b\b\b\b\b\b\b\b\b\b\b\b\b\b\b\b\b\b\b\b\b\b\b\b\b\b\b\b\b\b\b\b\b\b\b\b\b\b\b\b\b\b\b\b\b\b\b\b\b\b\b\b\b\b\b\b\b\b\b\b\b\b\b\b\b\b\b\b\b\b\b\b\b\b\b\b\b\b\b\b\b\b\b\b\b\b\b\b\b\b\b\b\b\b\b\b\b\b\b\b\b\b\b\b\b\b\b\b\b\b\b\b\b\b\b\b\b\b\b\bWARNING:tensorflow:Can save best model only with val_loss available, skipping.\n",
      "12/12 [==============================] - 0s 10ms/step - loss: 0.5813 - accuracy: 0.6870\n",
      "Epoch 9/20\n",
      "11/12 [==========================>...] - ETA: 0s - loss: 0.6100 - accuracy: 0.6636\b\b\b\b\b\b\b\b\b\b\b\b\b\b\b\b\b\b\b\b\b\b\b\b\b\b\b\b\b\b\b\b\b\b\b\b\b\b\b\b\b\b\b\b\b\b\b\b\b\b\b\b\b\b\b\b\b\b\b\b\b\b\b\b\b\b\b\b\b\b\b\b\b\b\b\b\b\b\b\b\b\b\b\b\b\b\b\b\b\b\b\b\b\b\b\b\b\b\b\b\b\b\b\b\b\b\b\b\b\b\b\b\b\b\b\b\b\b\b\b\b\b\b\b\b\b\b\b\b\b\b\b\b\b\b\b\b\b\b\b\b\b\b\b\b\b\b\b\b\b\b\b\b\b\b\b\b\b\b\b\b\b\b\bWARNING:tensorflow:Can save best model only with val_loss available, skipping.\n",
      "12/12 [==============================] - 0s 10ms/step - loss: 0.6057 - accuracy: 0.6609\n",
      "Epoch 10/20\n",
      "11/12 [==========================>...] - ETA: 0s - loss: 0.5984 - accuracy: 0.6182\b\b\b\b\b\b\b\b\b\b\b\b\b\b\b\b\b\b\b\b\b\b\b\b\b\b\b\b\b\b\b\b\b\b\b\b\b\b\b\b\b\b\b\b\b\b\b\b\b\b\b\b\b\b\b\b\b\b\b\b\b\b\b\b\b\b\b\b\b\b\b\b\b\b\b\b\b\b\b\b\b\b\b\b\b\b\b\b\b\b\b\b\b\b\b\b\b\b\b\b\b\b\b\b\b\b\b\b\b\b\b\b\b\b\b\b\b\b\b\b\b\b\b\b\b\b\b\b\b\b\b\b\b\b\b\b\b\b\b\b\b\b\b\b\b\b\b\b\b\b\b\b\b\b\b\b\b\b\b\b\b\b\b\bWARNING:tensorflow:Can save best model only with val_loss available, skipping.\n",
      "12/12 [==============================] - 0s 10ms/step - loss: 0.6093 - accuracy: 0.6087\n",
      "Epoch 11/20\n",
      "11/12 [==========================>...] - ETA: 0s - loss: 0.4914 - accuracy: 0.7818\b\b\b\b\b\b\b\b\b\b\b\b\b\b\b\b\b\b\b\b\b\b\b\b\b\b\b\b\b\b\b\b\b\b\b\b\b\b\b\b\b\b\b\b\b\b\b\b\b\b\b\b\b\b\b\b\b\b\b\b\b\b\b\b\b\b\b\b\b\b\b\b\b\b\b\b\b\b\b\b\b\b\b\b\b\b\b\b\b\b\b\b\b\b\b\b\b\b\b\b\b\b\b\b\b\b\b\b\b\b\b\b\b\b\b\b\b\b\b\b\b\b\b\b\b\b\b\b\b\b\b\b\b\b\b\b\b\b\b\b\b\b\b\b\b\b\b\b\b\b\b\b\b\b\b\b\b\b\b\b\b\b\b\bWARNING:tensorflow:Can save best model only with val_loss available, skipping.\n",
      "12/12 [==============================] - 0s 11ms/step - loss: 0.4984 - accuracy: 0.7652\n",
      "Epoch 12/20\n",
      "11/12 [==========================>...] - ETA: 0s - loss: 0.5086 - accuracy: 0.7455\b\b\b\b\b\b\b\b\b\b\b\b\b\b\b\b\b\b\b\b\b\b\b\b\b\b\b\b\b\b\b\b\b\b\b\b\b\b\b\b\b\b\b\b\b\b\b\b\b\b\b\b\b\b\b\b\b\b\b\b\b\b\b\b\b\b\b\b\b\b\b\b\b\b\b\b\b\b\b\b\b\b\b\b\b\b\b\b\b\b\b\b\b\b\b\b\b\b\b\b\b\b\b\b\b\b\b\b\b\b\b\b\b\b\b\b\b\b\b\b\b\b\b\b\b\b\b\b\b\b\b\b\b\b\b\b\b\b\b\b\b\b\b\b\b\b\b\b\b\b\b\b\b\b\b\b\b\b\b\b\b\b\b\bWARNING:tensorflow:Can save best model only with val_loss available, skipping.\n",
      "12/12 [==============================] - 0s 10ms/step - loss: 0.5152 - accuracy: 0.7304\n",
      "Epoch 13/20\n",
      "10/12 [========================>.....] - ETA: 0s - loss: 0.4937 - accuracy: 0.7900\b\b\b\b\b\b\b\b\b\b\b\b\b\b\b\b\b\b\b\b\b\b\b\b\b\b\b\b\b\b\b\b\b\b\b\b\b\b\b\b\b\b\b\b\b\b\b\b\b\b\b\b\b\b\b\b\b\b\b\b\b\b\b\b\b\b\b\b\b\b\b\b\b\b\b\b\b\b\b\b\b\b\b\b\b\b\b\b\b\b\b\b\b\b\b\b\b\b\b\b\b\b\b\b\b\b\b\b\b\b\b\b\b\b\b\b\b\b\b\b\b\b\b\b\b\b\b\b\b\b\b\b\b\b\b\b\b\b\b\b\b\b\b\b\b\b\b\b\b\b\b\b\b\b\b\b\b\b\b\b\b\b\b\b\b\b\b\b\b\b\b\b\b\b\b\b\b\b\b\b\b\b\b\b\b\b\b\b\b\b\b\b\b\b\b\b\b\b\b\b\b\b\b\b\b\b\b\b\b\b\b\b\b\b\b\b\b\b\b\b\b\b\b\b\b\b\b\b\b\b\b\b\b\b\b\b\b\b\b\b\b\b\b\b\b\b\b\b\b\b\b\b\b\b\b\b\b\b\b\b\b\b\b\b\b\b\b\b\b\b\b\b\b\b\b\b\b\b\b\b\b\b\b\b\b\b\b\b\b\b\b\b\b\b\b\b\b\b\b\b\b\b\b\b\b\b\b\b\b\b\b\b\b\b\b\b\b\b\b\b\b\b\b\b\b\b\b\b\b\b\b\b\b\b\b\b\b\b\b\b\b\b\b\b\b\b\b\b\b\b\b\b\b\b\b\b\b\b\b\b\b\b\b\b\b\b\b\b\b\b\b\b\b\b\b\b\b\b\b\b\b\b\b\b\b\b\b\b\b\b\b\b\b\b\b\b\b\b\b\b\b\b\b\b\b\b\b\b\b\b\b\b\b\b\b\b\b\b\b\b\b\b\b\b\b\b\b\b\b\b\b\b\b\b\b\b\b\b\b\b\b\b\b\b\b\b\b\b\b\b\b\b\b\b\b\b\b\b\b\b\b\b\b\b\b\b\b\b\b\b\b\b\b\b\b\b\b\b\b\b\b\b\b\b\b\b\b\b\b\b\b\b\b\b\b\b\b\b\b\b\b\b\b\b\b\b\b\b\b\b\b\b\b\b\b\b\b\b\b\b\b\b\b\b\b\b\b\b\b\b\b\b\b\b\b\b\b\b\b\b\b\b\b\b\b\b\b\b\b\b\b\b\b\b\b\b\b\b\b\b\b\b\b\b\b\b\b\b\b\b\b\b\b\bWARNING:tensorflow:Can save best model only with val_loss available, skipping.\n",
      "12/12 [==============================] - 1s 44ms/step - loss: 0.5114 - accuracy: 0.7739\n",
      "Epoch 14/20\n",
      "10/12 [========================>.....] - ETA: 0s - loss: 0.4690 - accuracy: 0.7900\b\b\b\b\b\b\b\b\b\b\b\b\b\b\b\b\b\b\b\b\b\b\b\b\b\b\b\b\b\b\b\b\b\b\b\b\b\b\b\b\b\b\b\b\b\b\b\b\b\b\b\b\b\b\b\b\b\b\b\b\b\b\b\b\b\b\b\b\b\b\b\b\b\b\b\b\b\b\b\b\b\b\b\b\b\b\b\b\b\b\b\b\b\b\b\b\b\b\b\b\b\b\b\b\b\b\b\b\b\b\b\b\b\b\b\b\b\b\b\b\b\b\b\b\b\b\b\b\b\b\b\b\b\b\b\b\b\b\b\b\b\b\b\b\b\b\b\b\b\b\b\b\b\b\b\b\b\b\b\b\b\b\b\bWARNING:tensorflow:Can save best model only with val_loss available, skipping.\n",
      "12/12 [==============================] - 0s 14ms/step - loss: 0.4926 - accuracy: 0.7652\n",
      "Epoch 15/20\n",
      "10/12 [========================>.....] - ETA: 0s - loss: 0.4886 - accuracy: 0.7600\b\b\b\b\b\b\b\b\b\b\b\b\b\b\b\b\b\b\b\b\b\b\b\b\b\b\b\b\b\b\b\b\b\b\b\b\b\b\b\b\b\b\b\b\b\b\b\b\b\b\b\b\b\b\b\b\b\b\b\b\b\b\b\b\b\b\b\b\b\b\b\b\b\b\b\b\b\b\b\b\b\b\b\b\b\b\b\b\b\b\b\b\b\b\b\b\b\b\b\b\b\b\b\b\b\b\b\b\b\b\b\b\b\b\b\b\b\b\b\b\b\b\b\b\b\b\b\b\b\b\b\b\b\b\b\b\b\b\b\b\b\b\b\b\b\b\b\b\b\b\b\b\b\b\b\b\b\b\b\b\b\b\b\bWARNING:tensorflow:Can save best model only with val_loss available, skipping.\n",
      "12/12 [==============================] - 0s 11ms/step - loss: 0.4667 - accuracy: 0.7739\n",
      "Epoch 16/20\n",
      "12/12 [==============================] - ETA: 0s - loss: 0.4185 - accuracy: 0.7913\b\b\b\b\b\b\b\b\b\b\b\b\b\b\b\b\b\b\b\b\b\b\b\b\b\b\b\b\b\b\b\b\b\b\b\b\b\b\b\b\b\b\b\b\b\b\b\b\b\b\b\b\b\b\b\b\b\b\b\b\b\b\b\b\b\b\b\b\b\b\b\b\b\b\b\b\b\b\b\b\b\b\b\b\b\b\b\b\b\b\b\b\b\b\b\b\b\b\b\b\b\b\b\b\b\b\b\b\b\b\b\b\b\b\b\b\b\b\b\b\b\b\b\b\b\b\b\b\b\b\b\b\b\b\b\b\b\b\b\b\b\b\b\b\b\b\b\b\b\b\b\b\b\b\b\b\b\b\b\b\b\b\b\bWARNING:tensorflow:Can save best model only with val_loss available, skipping.\n",
      "12/12 [==============================] - 0s 9ms/step - loss: 0.4185 - accuracy: 0.7913\n",
      "Epoch 17/20\n",
      "12/12 [==============================] - ETA: 0s - loss: 0.4149 - accuracy: 0.8261\b\b\b\b\b\b\b\b\b\b\b\b\b\b\b\b\b\b\b\b\b\b\b\b\b\b\b\b\b\b\b\b\b\b\b\b\b\b\b\b\b\b\b\b\b\b\b\b\b\b\b\b\b\b\b\b\b\b\b\b\b\b\b\b\b\b\b\b\b\b\b\b\b\b\b\b\b\b\b\b\b\b\b\b\b\b\b\b\b\b\b\b\b\b\b\b\b\b\b\b\b\b\b\b\b\b\b\b\b\b\b\b\b\b\b\b\b\b\b\b\b\b\b\b\b\b\b\b\b\b\b\b\b\b\b\b\b\b\b\b\b\b\b\b\b\b\b\b\b\b\b\b\b\b\b\b\b\b\b\b\b\b\b\bWARNING:tensorflow:Can save best model only with val_loss available, skipping.\n",
      "12/12 [==============================] - 0s 9ms/step - loss: 0.4149 - accuracy: 0.8261\n",
      "Epoch 18/20\n",
      "10/12 [========================>.....] - ETA: 0s - loss: 0.4636 - accuracy: 0.8300\b\b\b\b\b\b\b\b\b\b\b\b\b\b\b\b\b\b\b\b\b\b\b\b\b\b\b\b\b\b\b\b\b\b\b\b\b\b\b\b\b\b\b\b\b\b\b\b\b\b\b\b\b\b\b\b\b\b\b\b\b\b\b\b\b\b\b\b\b\b\b\b\b\b\b\b\b\b\b\b\b\b\b\b\b\b\b\b\b\b\b\b\b\b\b\b\b\b\b\b\b\b\b\b\b\b\b\b\b\b\b\b\b\b\b\b\b\b\b\b\b\b\b\b\b\b\b\b\b\b\b\b\b\b\b\b\b\b\b\b\b\b\b\b\b\b\b\b\b\b\b\b\b\b\b\b\b\b\b\b\b\b\b\bWARNING:tensorflow:Can save best model only with val_loss available, skipping.\n",
      "12/12 [==============================] - 0s 10ms/step - loss: 0.4699 - accuracy: 0.8087\n",
      "Epoch 19/20\n",
      "12/12 [==============================] - ETA: 0s - loss: 0.4100 - accuracy: 0.8435\b\b\b\b\b\b\b\b\b\b\b\b\b\b\b\b\b\b\b\b\b\b\b\b\b\b\b\b\b\b\b\b\b\b\b\b\b\b\b\b\b\b\b\b\b\b\b\b\b\b\b\b\b\b\b\b\b\b\b\b\b\b\b\b\b\b\b\b\b\b\b\b\b\b\b\b\b\b\b\b\b\b\b\b\b\b\b\b\b\b\b\b\b\b\b\b\b\b\b\b\b\b\b\b\b\b\b\b\b\b\b\b\b\b\b\b\b\b\b\b\b\b\b\b\b\b\b\b\b\b\b\b\b\b\b\b\b\b\b\b\b\b\b\b\b\b\b\b\b\b\b\b\b\b\b\b\b\b\b\b\b\b\b\bWARNING:tensorflow:Can save best model only with val_loss available, skipping.\n",
      "12/12 [==============================] - 0s 9ms/step - loss: 0.4100 - accuracy: 0.8435\n",
      "Epoch 20/20\n",
      " 7/12 [================>.............] - ETA: 0s - loss: 0.4021 - accuracy: 0.7857\b\b\b\b\b\b\b\b\b\b\b\b\b\b\b\b\b\b\b\b\b\b\b\b\b\b\b\b\b\b\b\b\b\b\b\b\b\b\b\b\b\b\b\b\b\b\b\b\b\b\b\b\b\b\b\b\b\b\b\b\b\b\b\b\b\b\b\b\b\b\b\b\b\b\b\b\b\b\b\b\b\bWARNING:tensorflow:Can save best model only with val_loss available, skipping.\n",
      "12/12 [==============================] - 0s 8ms/step - loss: 0.3988 - accuracy: 0.8087\n"
     ]
    }
   ],
   "source": [
    "# the syntax is {class_1:weight_1, class_2:weight_2,...}. Here just setting\n",
    "# the weights all to be 1\n",
    "# unused\n",
    "class_weights = {0:1, 1:1, 2:1, 3:1}\n",
    "with tf.device('/device:GPU:0'):\n",
    "    fittedModel = model.fit(X_train, Y_train, batch_size = 10, epochs = 20,\n",
    "                        verbose = 1, callbacks=[checkpointer, LossAndAccRecord()])"
   ],
   "metadata": {
    "collapsed": false,
    "pycharm": {
     "name": "#%%\n"
    }
   }
  },
  {
   "cell_type": "code",
   "execution_count": 19,
   "outputs": [],
   "source": [
    "# load optimal weights\n",
    "model.load_weights('./checkpoint.h5')"
   ],
   "metadata": {
    "collapsed": false,
    "pycharm": {
     "name": "#%%\n"
    }
   }
  },
  {
   "cell_type": "code",
   "execution_count": 20,
   "outputs": [
    {
     "name": "stdout",
     "output_type": "stream",
     "text": [
      "[[0.5256974  0.47430262]\n",
      " [0.6292368  0.37076312]\n",
      " [0.58854145 0.41145858]\n",
      " [0.53485024 0.46514973]\n",
      " [0.52453    0.47547   ]\n",
      " [0.5827999  0.4172001 ]\n",
      " [0.57380515 0.42619488]\n",
      " [0.5851797  0.41482037]\n",
      " [0.5222445  0.47775552]\n",
      " [0.58714473 0.41285527]\n",
      " [0.6708669  0.32913306]\n",
      " [0.5588985  0.44110146]\n",
      " [0.6126774  0.3873226 ]\n",
      " [0.5368599  0.46314004]\n",
      " [0.5840082  0.41599172]\n",
      " [0.5441277  0.4558723 ]\n",
      " [0.6236153  0.3763847 ]\n",
      " [0.5731457  0.42685434]\n",
      " [0.5392649  0.46073508]\n",
      " [0.55734324 0.44265673]\n",
      " [0.56159514 0.43840492]\n",
      " [0.50319254 0.49680743]\n",
      " [0.523882   0.476118  ]\n",
      " [0.50770915 0.49229085]\n",
      " [0.53727466 0.46272534]\n",
      " [0.5511348  0.44886515]\n",
      " [0.5682291  0.43177092]\n",
      " [0.556567   0.443433  ]\n",
      " [0.57378113 0.42621884]]\n",
      "Classification accuracy: 0.5172 \n"
     ]
    }
   ],
   "source": [
    "###############################################################################\n",
    "# make prediction on test set.\n",
    "###############################################################################\n",
    "\n",
    "probs       = model.predict(X_test)\n",
    "print(probs)\n",
    "preds       = probs.argmax(axis = -1)\n",
    "acc         = np.mean(preds == Y_test.argmax(axis=-1))\n",
    "print(\"Classification accuracy: %.4f \" % (acc))"
   ],
   "metadata": {
    "collapsed": false,
    "pycharm": {
     "name": "#%%\n"
    }
   }
  },
  {
   "cell_type": "code",
   "execution_count": 23,
   "outputs": [
    {
     "data": {
      "text/plain": "array([[15,  0],\n       [14,  0]], dtype=int64)"
     },
     "execution_count": 23,
     "metadata": {},
     "output_type": "execute_result"
    }
   ],
   "source": [
    "confusion_matrix(Y_test.argmax(axis=-1), preds)"
   ],
   "metadata": {
    "collapsed": false,
    "pycharm": {
     "name": "#%%\n"
    }
   }
  },
  {
   "cell_type": "code",
   "execution_count": 22,
   "outputs": [
    {
     "data": {
      "text/plain": "<Figure size 432x288 with 2 Axes>",
      "image/png": "[encoded data removed]"
     },
     "metadata": {
      "needs_background": "light"
     },
     "output_type": "display_data"
    }
   ],
   "source": [
    "import matplotlib.pyplot as plt\n",
    "fig, ax = plt.subplots(2)\n",
    "ax[0].plot(losses)\n",
    "ax[0].set_ylabel('Loss')\n",
    "ax[0].set_xlabel('Epochs')\n",
    "ax[1].plot(accs)\n",
    "ax[1].set_ylabel('Accuracy')\n",
    "ax[1].set_xlabel('Epochs')\n",
    "plt.show()"
   ],
   "metadata": {
    "collapsed": false,
    "pycharm": {
     "name": "#%%\n"
    }
   }
  }
 ],
 "metadata": {
  "kernelspec": {
   "name": "mne",
   "language": "python",
   "display_name": "EEGNET"
  },
  "language_info": {
   "codemirror_mode": {
    "name": "ipython",
    "version": 3
   },
   "file_extension": ".py",
   "mimetype": "text/x-python",
   "name": "python",
   "nbconvert_exporter": "python",
   "pygments_lexer": "ipython3",
   "version": "3.8.5"
  }
 },
 "nbformat": 4,
 "nbformat_minor": 4
}